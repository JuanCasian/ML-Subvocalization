{
 "cells": [
  {
   "cell_type": "code",
   "execution_count": 1,
   "metadata": {},
   "outputs": [],
   "source": [
    "import os"
   ]
  },
  {
   "cell_type": "code",
   "execution_count": 2,
   "metadata": {},
   "outputs": [],
   "source": [
    "audio_path = \"/home/jp_capo_98/Documents/ML-Silent-Speech-Recognition/Data/train_data/audio/\"\n",
    "image_path = \"/home/jp_capo_98/Documents/ML-Silent-Speech-Recognition/Data/train_data/images/\""
   ]
  },
  {
   "cell_type": "code",
   "execution_count": 47,
   "metadata": {},
   "outputs": [],
   "source": [
    "# script for training\n",
    "for folder in os.listdir(audio_path):\n",
    "    audio_folder = audio_path + folder\n",
    "    image_folder = image_path + folder\n",
    "    for subdir in os.listdir(audio_folder):\n",
    "        audio_subdir = audio_folder + \"/\" + subdir\n",
    "        image_subdir = image_folder + \"/\" + subdir\n",
    "        command = \"mkdir \" + image_subdir\n",
    "        for subdir2 in os.listdir(audio_subdir):\n",
    "            audio_subdir2 = audio_subdir + \"/\" + subdir2\n",
    "            image_subdir2 = image_subdir + \"/\" +subdir2\n",
    "            for file in os.listdir(audio_subdir2):\n",
    "                audio_file = audio_subdir2 + \"/\" + file\n",
    "                image_file = image_subdir2 + \"/\" + file.split(\".\")[0] + \".png\"\n",
    "                command = \"sox \" + audio_file + \" -n spectrogram  -h -l -r -o \" + image_file\n",
    "                os.system(command)\n",
    "            "
   ]
  },
  {
   "cell_type": "code",
   "execution_count": 48,
   "metadata": {},
   "outputs": [],
   "source": [
    "audio_path = \"/home/jp_capo_98/Documents/ML-Silent-Speech-Recognition/Data/test_data/audio/\"\n",
    "image_path = \"/home/jp_capo_98/Documents/ML-Silent-Speech-Recognition/Data/test_data/images/\""
   ]
  },
  {
   "cell_type": "code",
   "execution_count": 56,
   "metadata": {},
   "outputs": [],
   "source": [
    "for folder in os.listdir(audio_path):\n",
    "    audio_folder = audio_path + folder\n",
    "    image_folder = image_path + folder\n",
    "    command = \"mkdir \" + image_folder\n",
    "    for file in os.listdir(audio_folder):\n",
    "        audio_file = audio_folder + \"/\" + file\n",
    "        image_file = image_folder + \"/\" + file.split(\".\")[0] + \".png\"\n",
    "        command = \"sox \" + audio_file + \" -n spectrogram  -h -l -r -o \" + image_file\n",
    "        os.system(command)"
   ]
  },
  {
   "cell_type": "code",
   "execution_count": null,
   "metadata": {},
   "outputs": [],
   "source": []
  }
 ],
 "metadata": {
  "kernelspec": {
   "display_name": "Python 3",
   "language": "python",
   "name": "python3"
  },
  "language_info": {
   "codemirror_mode": {
    "name": "ipython",
    "version": 3
   },
   "file_extension": ".py",
   "mimetype": "text/x-python",
   "name": "python",
   "nbconvert_exporter": "python",
   "pygments_lexer": "ipython3",
   "version": "3.5.3"
  }
 },
 "nbformat": 4,
 "nbformat_minor": 2
}
