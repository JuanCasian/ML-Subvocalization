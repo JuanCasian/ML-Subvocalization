{
 "cells": [
  {
   "cell_type": "code",
   "execution_count": 1,
   "metadata": {},
   "outputs": [],
   "source": [
    "import tensorflow as tf\n",
    "import pandas as pd\n",
    "import numpy as np\n",
    "import matplotlib.pyplot as plt\n",
    "import os\n",
    "import skimage\n",
    "%matplotlib inline"
   ]
  },
  {
   "cell_type": "code",
   "execution_count": 14,
   "metadata": {},
   "outputs": [],
   "source": [
    "# path to data folder\n",
    "data_path = \"/home/jp_capo_98/Documents/ML-Silent-Speech-Recognition/Data/images/\"\n",
    "data_channels = [\"ch1\", \"ch2\", \"ch3\", \"ch4\"]"
   ]
  },
  {
   "cell_type": "code",
   "execution_count": 20,
   "metadata": {},
   "outputs": [],
   "source": [
    "# import filenames and labels\n",
    "data = {\"label\":[], \"ch1\":[], \"ch2\":[], \"ch3\":[], \"ch4\":[]}\n",
    "for folder in os.listdir(data_path):\n",
    "    for file in os.listdir(data_path + folder + \"/\" + data_channels[0]):\n",
    "        data[\"label\"].append(folder)\n",
    "        data[\"ch1\"].append(data_path + folder + \"/\" + data_channels[0] + \"/\" + file)\n",
    "        data[\"ch2\"].append(data_path + folder + \"/\" + data_channels[1] + \"/\" + file)\n",
    "        data[\"ch3\"].append(data_path + folder + \"/\" + data_channels[2] + \"/\" + file)\n",
    "        data[\"ch4\"].append(data_path + folder + \"/\" + data_channels[3] + \"/\" + file)"
   ]
  },
  {
   "cell_type": "code",
   "execution_count": 21,
   "metadata": {},
   "outputs": [],
   "source": [
    "# convert to dataframe for easier visualization\n",
    "data_df = pd.DataFrame(data)"
   ]
  },
  {
   "cell_type": "code",
   "execution_count": 24,
   "metadata": {},
   "outputs": [
    {
     "data": {
      "text/html": [
       "<div>\n",
       "<style scoped>\n",
       "    .dataframe tbody tr th:only-of-type {\n",
       "        vertical-align: middle;\n",
       "    }\n",
       "\n",
       "    .dataframe tbody tr th {\n",
       "        vertical-align: top;\n",
       "    }\n",
       "\n",
       "    .dataframe thead th {\n",
       "        text-align: right;\n",
       "    }\n",
       "</style>\n",
       "<table border=\"1\" class=\"dataframe\">\n",
       "  <thead>\n",
       "    <tr style=\"text-align: right;\">\n",
       "      <th></th>\n",
       "      <th>ch1</th>\n",
       "      <th>ch2</th>\n",
       "      <th>ch3</th>\n",
       "      <th>ch4</th>\n",
       "      <th>label</th>\n",
       "    </tr>\n",
       "  </thead>\n",
       "  <tbody>\n",
       "    <tr>\n",
       "      <th>452</th>\n",
       "      <td>/home/jp_capo_98/Documents/ML-Silent-Speech-Re...</td>\n",
       "      <td>/home/jp_capo_98/Documents/ML-Silent-Speech-Re...</td>\n",
       "      <td>/home/jp_capo_98/Documents/ML-Silent-Speech-Re...</td>\n",
       "      <td>/home/jp_capo_98/Documents/ML-Silent-Speech-Re...</td>\n",
       "      <td>one</td>\n",
       "    </tr>\n",
       "    <tr>\n",
       "      <th>935</th>\n",
       "      <td>/home/jp_capo_98/Documents/ML-Silent-Speech-Re...</td>\n",
       "      <td>/home/jp_capo_98/Documents/ML-Silent-Speech-Re...</td>\n",
       "      <td>/home/jp_capo_98/Documents/ML-Silent-Speech-Re...</td>\n",
       "      <td>/home/jp_capo_98/Documents/ML-Silent-Speech-Re...</td>\n",
       "      <td>one</td>\n",
       "    </tr>\n",
       "    <tr>\n",
       "      <th>1241</th>\n",
       "      <td>/home/jp_capo_98/Documents/ML-Silent-Speech-Re...</td>\n",
       "      <td>/home/jp_capo_98/Documents/ML-Silent-Speech-Re...</td>\n",
       "      <td>/home/jp_capo_98/Documents/ML-Silent-Speech-Re...</td>\n",
       "      <td>/home/jp_capo_98/Documents/ML-Silent-Speech-Re...</td>\n",
       "      <td>two</td>\n",
       "    </tr>\n",
       "    <tr>\n",
       "      <th>1483</th>\n",
       "      <td>/home/jp_capo_98/Documents/ML-Silent-Speech-Re...</td>\n",
       "      <td>/home/jp_capo_98/Documents/ML-Silent-Speech-Re...</td>\n",
       "      <td>/home/jp_capo_98/Documents/ML-Silent-Speech-Re...</td>\n",
       "      <td>/home/jp_capo_98/Documents/ML-Silent-Speech-Re...</td>\n",
       "      <td>two</td>\n",
       "    </tr>\n",
       "  </tbody>\n",
       "</table>\n",
       "</div>"
      ],
      "text/plain": [
       "                                                    ch1  \\\n",
       "452   /home/jp_capo_98/Documents/ML-Silent-Speech-Re...   \n",
       "935   /home/jp_capo_98/Documents/ML-Silent-Speech-Re...   \n",
       "1241  /home/jp_capo_98/Documents/ML-Silent-Speech-Re...   \n",
       "1483  /home/jp_capo_98/Documents/ML-Silent-Speech-Re...   \n",
       "\n",
       "                                                    ch2  \\\n",
       "452   /home/jp_capo_98/Documents/ML-Silent-Speech-Re...   \n",
       "935   /home/jp_capo_98/Documents/ML-Silent-Speech-Re...   \n",
       "1241  /home/jp_capo_98/Documents/ML-Silent-Speech-Re...   \n",
       "1483  /home/jp_capo_98/Documents/ML-Silent-Speech-Re...   \n",
       "\n",
       "                                                    ch3  \\\n",
       "452   /home/jp_capo_98/Documents/ML-Silent-Speech-Re...   \n",
       "935   /home/jp_capo_98/Documents/ML-Silent-Speech-Re...   \n",
       "1241  /home/jp_capo_98/Documents/ML-Silent-Speech-Re...   \n",
       "1483  /home/jp_capo_98/Documents/ML-Silent-Speech-Re...   \n",
       "\n",
       "                                                    ch4 label  \n",
       "452   /home/jp_capo_98/Documents/ML-Silent-Speech-Re...   one  \n",
       "935   /home/jp_capo_98/Documents/ML-Silent-Speech-Re...   one  \n",
       "1241  /home/jp_capo_98/Documents/ML-Silent-Speech-Re...   two  \n",
       "1483  /home/jp_capo_98/Documents/ML-Silent-Speech-Re...   two  "
      ]
     },
     "execution_count": 24,
     "metadata": {},
     "output_type": "execute_result"
    }
   ],
   "source": [
    "# sample data\n",
    "data_df.sample(4)"
   ]
  },
  {
   "cell_type": "code",
   "execution_count": 26,
   "metadata": {},
   "outputs": [
    {
     "data": {
      "text/html": [
       "<div>\n",
       "<style scoped>\n",
       "    .dataframe tbody tr th:only-of-type {\n",
       "        vertical-align: middle;\n",
       "    }\n",
       "\n",
       "    .dataframe tbody tr th {\n",
       "        vertical-align: top;\n",
       "    }\n",
       "\n",
       "    .dataframe thead tr th {\n",
       "        text-align: left;\n",
       "    }\n",
       "\n",
       "    .dataframe thead tr:last-of-type th {\n",
       "        text-align: right;\n",
       "    }\n",
       "</style>\n",
       "<table border=\"1\" class=\"dataframe\">\n",
       "  <thead>\n",
       "    <tr>\n",
       "      <th></th>\n",
       "      <th colspan=\"4\" halign=\"left\">ch1</th>\n",
       "      <th colspan=\"4\" halign=\"left\">ch2</th>\n",
       "      <th colspan=\"4\" halign=\"left\">ch3</th>\n",
       "      <th colspan=\"4\" halign=\"left\">ch4</th>\n",
       "    </tr>\n",
       "    <tr>\n",
       "      <th></th>\n",
       "      <th>count</th>\n",
       "      <th>unique</th>\n",
       "      <th>top</th>\n",
       "      <th>freq</th>\n",
       "      <th>count</th>\n",
       "      <th>unique</th>\n",
       "      <th>top</th>\n",
       "      <th>freq</th>\n",
       "      <th>count</th>\n",
       "      <th>unique</th>\n",
       "      <th>top</th>\n",
       "      <th>freq</th>\n",
       "      <th>count</th>\n",
       "      <th>unique</th>\n",
       "      <th>top</th>\n",
       "      <th>freq</th>\n",
       "    </tr>\n",
       "    <tr>\n",
       "      <th>label</th>\n",
       "      <th></th>\n",
       "      <th></th>\n",
       "      <th></th>\n",
       "      <th></th>\n",
       "      <th></th>\n",
       "      <th></th>\n",
       "      <th></th>\n",
       "      <th></th>\n",
       "      <th></th>\n",
       "      <th></th>\n",
       "      <th></th>\n",
       "      <th></th>\n",
       "      <th></th>\n",
       "      <th></th>\n",
       "      <th></th>\n",
       "      <th></th>\n",
       "    </tr>\n",
       "  </thead>\n",
       "  <tbody>\n",
       "    <tr>\n",
       "      <th>one</th>\n",
       "      <td>1017</td>\n",
       "      <td>1017</td>\n",
       "      <td>/home/jp_capo_98/Documents/ML-Silent-Speech-Re...</td>\n",
       "      <td>1</td>\n",
       "      <td>1017</td>\n",
       "      <td>1017</td>\n",
       "      <td>/home/jp_capo_98/Documents/ML-Silent-Speech-Re...</td>\n",
       "      <td>1</td>\n",
       "      <td>1017</td>\n",
       "      <td>1017</td>\n",
       "      <td>/home/jp_capo_98/Documents/ML-Silent-Speech-Re...</td>\n",
       "      <td>1</td>\n",
       "      <td>1017</td>\n",
       "      <td>1017</td>\n",
       "      <td>/home/jp_capo_98/Documents/ML-Silent-Speech-Re...</td>\n",
       "      <td>1</td>\n",
       "    </tr>\n",
       "    <tr>\n",
       "      <th>two</th>\n",
       "      <td>1017</td>\n",
       "      <td>1017</td>\n",
       "      <td>/home/jp_capo_98/Documents/ML-Silent-Speech-Re...</td>\n",
       "      <td>1</td>\n",
       "      <td>1017</td>\n",
       "      <td>1017</td>\n",
       "      <td>/home/jp_capo_98/Documents/ML-Silent-Speech-Re...</td>\n",
       "      <td>1</td>\n",
       "      <td>1017</td>\n",
       "      <td>1017</td>\n",
       "      <td>/home/jp_capo_98/Documents/ML-Silent-Speech-Re...</td>\n",
       "      <td>1</td>\n",
       "      <td>1017</td>\n",
       "      <td>1017</td>\n",
       "      <td>/home/jp_capo_98/Documents/ML-Silent-Speech-Re...</td>\n",
       "      <td>1</td>\n",
       "    </tr>\n",
       "  </tbody>\n",
       "</table>\n",
       "</div>"
      ],
      "text/plain": [
       "        ch1                                                                 \\\n",
       "      count unique                                                top freq   \n",
       "label                                                                        \n",
       "one    1017   1017  /home/jp_capo_98/Documents/ML-Silent-Speech-Re...    1   \n",
       "two    1017   1017  /home/jp_capo_98/Documents/ML-Silent-Speech-Re...    1   \n",
       "\n",
       "        ch2                                                                 \\\n",
       "      count unique                                                top freq   \n",
       "label                                                                        \n",
       "one    1017   1017  /home/jp_capo_98/Documents/ML-Silent-Speech-Re...    1   \n",
       "two    1017   1017  /home/jp_capo_98/Documents/ML-Silent-Speech-Re...    1   \n",
       "\n",
       "        ch3                                                                 \\\n",
       "      count unique                                                top freq   \n",
       "label                                                                        \n",
       "one    1017   1017  /home/jp_capo_98/Documents/ML-Silent-Speech-Re...    1   \n",
       "two    1017   1017  /home/jp_capo_98/Documents/ML-Silent-Speech-Re...    1   \n",
       "\n",
       "        ch4                                                                 \n",
       "      count unique                                                top freq  \n",
       "label                                                                       \n",
       "one    1017   1017  /home/jp_capo_98/Documents/ML-Silent-Speech-Re...    1  \n",
       "two    1017   1017  /home/jp_capo_98/Documents/ML-Silent-Speech-Re...    1  "
      ]
     },
     "execution_count": 26,
     "metadata": {},
     "output_type": "execute_result"
    }
   ],
   "source": [
    "# describe the data\n",
    "data_df.groupby(\"label\").describe()"
   ]
  },
  {
   "cell_type": "code",
   "execution_count": 27,
   "metadata": {},
   "outputs": [],
   "source": [
    "# one hot encoding dictionary\n",
    "one_hot_encoding = {\"one\":[1, 0],\n",
    "                   \"two\":[0, 1]}"
   ]
  },
  {
   "cell_type": "code",
   "execution_count": 29,
   "metadata": {},
   "outputs": [],
   "source": [
    "# one hot decoding dictionary for argmax\n",
    "one_hot_decoding = {0:\"one\",\n",
    "                   1:\"two\"}"
   ]
  },
  {
   "cell_type": "code",
   "execution_count": 81,
   "metadata": {},
   "outputs": [
    {
     "data": {
      "text/plain": [
       "<matplotlib.image.AxesImage at 0x7f0e8d566630>"
      ]
     },
     "execution_count": 81,
     "metadata": {},
     "output_type": "execute_result"
    },
    {
     "data": {
      "image/png": "[encoded data removed]",
      "text/plain": [
       "<Figure size 432x288 with 1 Axes>"
      ]
     },
     "metadata": {},
     "output_type": "display_data"
    }
   ],
   "source": [
    "# Show one of the train spectograms\n",
    "sample = data_df.sample()\n",
    "plt.imshow(skimage.io.imread(sample.ch4.iloc[0]))"
   ]
  },
  {
   "cell_type": "code",
   "execution_count": 82,
   "metadata": {},
   "outputs": [
    {
     "data": {
      "text/plain": [
       "'two'"
      ]
     },
     "execution_count": 82,
     "metadata": {},
     "output_type": "execute_result"
    }
   ],
   "source": [
    "# Show sample label\n",
    "sample.label.iloc[0]"
   ]
  },
  {
   "cell_type": "code",
   "execution_count": 83,
   "metadata": {},
   "outputs": [
    {
     "data": {
      "text/plain": [
       "<matplotlib.image.AxesImage at 0x7f0e8d5259e8>"
      ]
     },
     "execution_count": 83,
     "metadata": {},
     "output_type": "execute_result"
    },
    {
     "data": {
      "image/png": "[encoded data removed]",
      "text/plain": [
       "<Figure size 432x288 with 1 Axes>"
      ]
     },
     "metadata": {},
     "output_type": "display_data"
    }
   ],
   "source": [
    "# Show one of the train spectograms\n",
    "sample = data_df.sample()\n",
    "plt.imshow(skimage.io.imread(sample.ch4.iloc[0]))"
   ]
  },
  {
   "cell_type": "code",
   "execution_count": 84,
   "metadata": {},
   "outputs": [
    {
     "data": {
      "text/plain": [
       "'one'"
      ]
     },
     "execution_count": 84,
     "metadata": {},
     "output_type": "execute_result"
    }
   ],
   "source": [
    "# Show sample label\n",
    "sample.label.iloc[0]"
   ]
  },
  {
   "cell_type": "code",
   "execution_count": 48,
   "metadata": {},
   "outputs": [
    {
     "data": {
      "text/plain": [
       "(513, 800, 3)"
      ]
     },
     "execution_count": 48,
     "metadata": {},
     "output_type": "execute_result"
    }
   ],
   "source": [
    "# get shape\n",
    "skimage.io.imread(sample.ch1.iloc[0]).shape"
   ]
  },
  {
   "cell_type": "code",
   "execution_count": 50,
   "metadata": {},
   "outputs": [
    {
     "data": {
      "text/html": [
       "<div>\n",
       "<style scoped>\n",
       "    .dataframe tbody tr th:only-of-type {\n",
       "        vertical-align: middle;\n",
       "    }\n",
       "\n",
       "    .dataframe tbody tr th {\n",
       "        vertical-align: top;\n",
       "    }\n",
       "\n",
       "    .dataframe thead th {\n",
       "        text-align: right;\n",
       "    }\n",
       "</style>\n",
       "<table border=\"1\" class=\"dataframe\">\n",
       "  <thead>\n",
       "    <tr style=\"text-align: right;\">\n",
       "      <th></th>\n",
       "      <th>ch1</th>\n",
       "      <th>ch2</th>\n",
       "      <th>ch3</th>\n",
       "      <th>ch4</th>\n",
       "      <th>label</th>\n",
       "    </tr>\n",
       "  </thead>\n",
       "  <tbody>\n",
       "    <tr>\n",
       "      <th>0</th>\n",
       "      <td>/home/jp_capo_98/Documents/ML-Silent-Speech-Re...</td>\n",
       "      <td>/home/jp_capo_98/Documents/ML-Silent-Speech-Re...</td>\n",
       "      <td>/home/jp_capo_98/Documents/ML-Silent-Speech-Re...</td>\n",
       "      <td>/home/jp_capo_98/Documents/ML-Silent-Speech-Re...</td>\n",
       "      <td>two</td>\n",
       "    </tr>\n",
       "    <tr>\n",
       "      <th>1</th>\n",
       "      <td>/home/jp_capo_98/Documents/ML-Silent-Speech-Re...</td>\n",
       "      <td>/home/jp_capo_98/Documents/ML-Silent-Speech-Re...</td>\n",
       "      <td>/home/jp_capo_98/Documents/ML-Silent-Speech-Re...</td>\n",
       "      <td>/home/jp_capo_98/Documents/ML-Silent-Speech-Re...</td>\n",
       "      <td>two</td>\n",
       "    </tr>\n",
       "    <tr>\n",
       "      <th>2</th>\n",
       "      <td>/home/jp_capo_98/Documents/ML-Silent-Speech-Re...</td>\n",
       "      <td>/home/jp_capo_98/Documents/ML-Silent-Speech-Re...</td>\n",
       "      <td>/home/jp_capo_98/Documents/ML-Silent-Speech-Re...</td>\n",
       "      <td>/home/jp_capo_98/Documents/ML-Silent-Speech-Re...</td>\n",
       "      <td>one</td>\n",
       "    </tr>\n",
       "    <tr>\n",
       "      <th>3</th>\n",
       "      <td>/home/jp_capo_98/Documents/ML-Silent-Speech-Re...</td>\n",
       "      <td>/home/jp_capo_98/Documents/ML-Silent-Speech-Re...</td>\n",
       "      <td>/home/jp_capo_98/Documents/ML-Silent-Speech-Re...</td>\n",
       "      <td>/home/jp_capo_98/Documents/ML-Silent-Speech-Re...</td>\n",
       "      <td>two</td>\n",
       "    </tr>\n",
       "    <tr>\n",
       "      <th>4</th>\n",
       "      <td>/home/jp_capo_98/Documents/ML-Silent-Speech-Re...</td>\n",
       "      <td>/home/jp_capo_98/Documents/ML-Silent-Speech-Re...</td>\n",
       "      <td>/home/jp_capo_98/Documents/ML-Silent-Speech-Re...</td>\n",
       "      <td>/home/jp_capo_98/Documents/ML-Silent-Speech-Re...</td>\n",
       "      <td>one</td>\n",
       "    </tr>\n",
       "  </tbody>\n",
       "</table>\n",
       "</div>"
      ],
      "text/plain": [
       "                                                 ch1  \\\n",
       "0  /home/jp_capo_98/Documents/ML-Silent-Speech-Re...   \n",
       "1  /home/jp_capo_98/Documents/ML-Silent-Speech-Re...   \n",
       "2  /home/jp_capo_98/Documents/ML-Silent-Speech-Re...   \n",
       "3  /home/jp_capo_98/Documents/ML-Silent-Speech-Re...   \n",
       "4  /home/jp_capo_98/Documents/ML-Silent-Speech-Re...   \n",
       "\n",
       "                                                 ch2  \\\n",
       "0  /home/jp_capo_98/Documents/ML-Silent-Speech-Re...   \n",
       "1  /home/jp_capo_98/Documents/ML-Silent-Speech-Re...   \n",
       "2  /home/jp_capo_98/Documents/ML-Silent-Speech-Re...   \n",
       "3  /home/jp_capo_98/Documents/ML-Silent-Speech-Re...   \n",
       "4  /home/jp_capo_98/Documents/ML-Silent-Speech-Re...   \n",
       "\n",
       "                                                 ch3  \\\n",
       "0  /home/jp_capo_98/Documents/ML-Silent-Speech-Re...   \n",
       "1  /home/jp_capo_98/Documents/ML-Silent-Speech-Re...   \n",
       "2  /home/jp_capo_98/Documents/ML-Silent-Speech-Re...   \n",
       "3  /home/jp_capo_98/Documents/ML-Silent-Speech-Re...   \n",
       "4  /home/jp_capo_98/Documents/ML-Silent-Speech-Re...   \n",
       "\n",
       "                                                 ch4 label  \n",
       "0  /home/jp_capo_98/Documents/ML-Silent-Speech-Re...   two  \n",
       "1  /home/jp_capo_98/Documents/ML-Silent-Speech-Re...   two  \n",
       "2  /home/jp_capo_98/Documents/ML-Silent-Speech-Re...   one  \n",
       "3  /home/jp_capo_98/Documents/ML-Silent-Speech-Re...   two  \n",
       "4  /home/jp_capo_98/Documents/ML-Silent-Speech-Re...   one  "
      ]
     },
     "execution_count": 50,
     "metadata": {},
     "output_type": "execute_result"
    }
   ],
   "source": [
    "# shufle data frame to make diferent datasets\n",
    "shuffled_df = data_df.sample(frac=1).reset_index(drop=True)\n",
    "shuffled_df.head()"
   ]
  },
  {
   "cell_type": "code",
   "execution_count": 51,
   "metadata": {},
   "outputs": [
    {
     "data": {
      "text/plain": [
       "(2034, 5)"
      ]
     },
     "execution_count": 51,
     "metadata": {},
     "output_type": "execute_result"
    }
   ],
   "source": [
    "shuffled_df.shape"
   ]
  },
  {
   "cell_type": "markdown",
   "metadata": {},
   "source": [
    "### Separating data\n",
    "- train = 80%\n",
    "- validation = 10%\n",
    "- test = 10%"
   ]
  },
  {
   "cell_type": "code",
   "execution_count": 60,
   "metadata": {},
   "outputs": [],
   "source": [
    "# training data\n",
    "train_data_labels = shuffled_df.label.values[:1628]\n",
    "train_data_ch1 = shuffled_df.ch1.values[:1628]\n",
    "train_data_ch2 = shuffled_df.ch2.values[:1628]\n",
    "train_data_ch3 = shuffled_df.ch3.values[:1628]\n",
    "train_data_ch4 = shuffled_df.ch4.values[:1628]"
   ]
  },
  {
   "cell_type": "code",
   "execution_count": 61,
   "metadata": {},
   "outputs": [],
   "source": [
    "# validation data\n",
    "validation_data_labels = shuffled_df.label.values[1628:1832]\n",
    "validation_data_ch1 = shuffled_df.ch1.values[1628:1832]\n",
    "validation_data_ch2 = shuffled_df.ch2.values[1628:1832]\n",
    "validation_data_ch3 = shuffled_df.ch3.values[1628:1832]\n",
    "validation_data_ch4 = shuffled_df.ch4.values[1628:1832]"
   ]
  },
  {
   "cell_type": "code",
   "execution_count": 62,
   "metadata": {},
   "outputs": [],
   "source": [
    "# test data \n",
    "test_data_labels = shuffled_df.label.values[1832:]\n",
    "test_data_ch1 = shuffled_df.ch1.values[1832:]\n",
    "test_data_ch2 = shuffled_df.ch2.values[1832:]\n",
    "test_data_ch3 = shuffled_df.ch3.values[1832:]\n",
    "test_data_ch4 = shuffled_df.ch4.values[1832:]"
   ]
  },
  {
   "cell_type": "markdown",
   "metadata": {},
   "source": [
    "### Helper functions"
   ]
  },
  {
   "cell_type": "code",
   "execution_count": 67,
   "metadata": {},
   "outputs": [],
   "source": [
    "# weight initialization helper function\n",
    "def init_weights(shape):\n",
    "    init_random_dist = tf.truncated_normal(shape, stddev=0.1)\n",
    "    return(tf.Variable(init_random_dist))"
   ]
  },
  {
   "cell_type": "code",
   "execution_count": 68,
   "metadata": {},
   "outputs": [],
   "source": [
    "# bias initialization function\n",
    "def init_bias(shape):\n",
    "    init_bias_vals = tf.constant(0.1,  shape=shape)\n",
    "    return (tf.Variable(init_bias_vals))"
   ]
  },
  {
   "cell_type": "code",
   "execution_count": 69,
   "metadata": {},
   "outputs": [],
   "source": [
    "# 2d convolutional layer\n",
    "def conv2d(x, W):\n",
    "    return (tf.nn.conv2d(x, W, strides=[1,1,1,1], padding=\"SAME\"))"
   ]
  },
  {
   "cell_type": "code",
   "execution_count": 70,
   "metadata": {},
   "outputs": [],
   "source": [
    "# max pool layer\n",
    "def max_pool_2by2(x):\n",
    "    return (tf.nn.max_pool(x, ksize=[1,2,2,1], strides=[1,2,2,1], padding=\"SAME\"))"
   ]
  },
  {
   "cell_type": "code",
   "execution_count": 71,
   "metadata": {},
   "outputs": [],
   "source": [
    "def convolutional_layer(input_x, shape):\n",
    "    W = init_weights(shape)\n",
    "    b = init_bias([shape[3]])\n",
    "    return (tf.nn.relu(conv2d(input_x, W)+b))"
   ]
  },
  {
   "cell_type": "code",
   "execution_count": 72,
   "metadata": {},
   "outputs": [],
   "source": [
    "def normal_full_layer(input_layer, size):\n",
    "    input_size = int(input_layer.get_shape()[1])\n",
    "    W = init_weights([input_size, size])\n",
    "    b = init_bias([size])\n",
    "    return (tf.nn.relu(tf.matmul(input_layer, W)+b))"
   ]
  },
  {
   "cell_type": "code",
   "execution_count": 73,
   "metadata": {},
   "outputs": [],
   "source": [
    "def output_full_layer(input_layer, size):\n",
    "    input_size = int(input_layer.get_shape()[1])\n",
    "    W = init_weights([input_size, size])\n",
    "    b = init_bias([size])\n",
    "    return (tf.matmul(input_layer, W)+b)"
   ]
  },
  {
   "cell_type": "markdown",
   "metadata": {},
   "source": [
    "## GRAPH"
   ]
  },
  {
   "cell_type": "markdown",
   "metadata": {},
   "source": [
    "### Placeholders"
   ]
  },
  {
   "cell_type": "code",
   "execution_count": null,
   "metadata": {},
   "outputs": [],
   "source": [
    "with tf.name_scope(\"Inputs\"):\n",
    "    # getting array of string which will be getting the images\n",
    "    x = tf.placeholder(tf.float32, shape=[None, 160, 160, 3], name=\"images\")\n",
    "    # gettin the one hot labels\n",
    "    y_true = tf.placeholder(tf.float32, shape=[None, 12], name=\"labels\")\n",
    "    # getting hold probability value\n",
    "    hold_prob = tf.placeholder(tf.float32)\n",
    "    # is training running?\n",
    "    is_train = tf.placeholder(tf.bool)"
   ]
  },
  {
   "cell_type": "markdown",
   "metadata": {},
   "source": [
    "### Datasets"
   ]
  },
  {
   "cell_type": "code",
   "execution_count": 77,
   "metadata": {},
   "outputs": [],
   "source": [
    "### image parsing fn\n",
    "def _image_parse_fn(label, filename):\n",
    "    image_string = tf.read_file(filename)\n",
    "    image_decoded = tf.image.decode_png(image_string)\n",
    "    image_resized = tf.image.resize_images(image_decoded, [160, 160])\n",
    "    image_resized = tf.div(image_resized, 255)\n",
    "    return image_resized, label"
   ]
  },
  {
   "cell_type": "code",
   "execution_count": 80,
   "metadata": {},
   "outputs": [
    {
     "ename": "NameError",
     "evalue": "name 'num_par_calls' is not defined",
     "output_type": "error",
     "traceback": [
      "\u001b[0;31m---------------------------------------------------------------------------\u001b[0m",
      "\u001b[0;31mNameError\u001b[0m                                 Traceback (most recent call last)",
      "\u001b[0;32m<ipython-input-80-cd9e4d5a25a3>\u001b[0m in \u001b[0;36m<module>\u001b[0;34m\u001b[0m\n\u001b[1;32m     10\u001b[0m         \u001b[0mtrain_dataset\u001b[0m \u001b[0;34m=\u001b[0m \u001b[0mtrain_dataset\u001b[0m\u001b[0;34m.\u001b[0m\u001b[0mshuffle\u001b[0m\u001b[0;34m(\u001b[0m\u001b[0;36m3000\u001b[0m\u001b[0;34m)\u001b[0m\u001b[0;34m\u001b[0m\u001b[0m\n\u001b[1;32m     11\u001b[0m         \u001b[0mtrain_dataset\u001b[0m \u001b[0;34m=\u001b[0m \u001b[0mtrain_dataset\u001b[0m\u001b[0;34m.\u001b[0m\u001b[0mrepeat\u001b[0m\u001b[0;34m(\u001b[0m\u001b[0;34m)\u001b[0m\u001b[0;34m\u001b[0m\u001b[0m\n\u001b[0;32m---> 12\u001b[0;31m         \u001b[0mtrain_dataset\u001b[0m \u001b[0;34m=\u001b[0m \u001b[0mtrain_dataset\u001b[0m\u001b[0;34m.\u001b[0m\u001b[0mmap\u001b[0m\u001b[0;34m(\u001b[0m\u001b[0m_image_parse_fn\u001b[0m\u001b[0;34m,\u001b[0m \u001b[0mnum_parallel_calls\u001b[0m\u001b[0;34m=\u001b[0m\u001b[0mnum_par_calls\u001b[0m\u001b[0;34m)\u001b[0m\u001b[0;34m\u001b[0m\u001b[0m\n\u001b[0m\u001b[1;32m     13\u001b[0m         \u001b[0mtrain_dataset\u001b[0m \u001b[0;34m=\u001b[0m \u001b[0mtrain_dataset\u001b[0m\u001b[0;34m.\u001b[0m\u001b[0mbatch\u001b[0m\u001b[0;34m(\u001b[0m\u001b[0mbatch_size\u001b[0m\u001b[0;34m)\u001b[0m\u001b[0;34m\u001b[0m\u001b[0m\n\u001b[1;32m     14\u001b[0m \u001b[0;34m\u001b[0m\u001b[0m\n",
      "\u001b[0;31mNameError\u001b[0m: name 'num_par_calls' is not defined"
     ]
    }
   ],
   "source": [
    "### Datasets\n",
    "with tf.name_scope(\"Datasets\"):\n",
    "    # Train Datasets\n",
    "    with tf.name_scope(\"Train_Dataset\"):\n",
    "        train_dataset = tf.data.Dataset.from_tensor_slices((train_data_labels,\n",
    "                                                           train_data_ch1,\n",
    "                                                           train_data_ch2,\n",
    "                                                           train_data_ch3,\n",
    "                                                           train_data_ch4))\n",
    "        train_dataset = train_dataset.shuffle(3000)\n",
    "        train_dataset = train_dataset.repeat()\n",
    "        train_dataset = train_dataset.map(_image_parse_fn, num_parallel_calls=num_par_calls)\n",
    "        train_dataset = train_dataset.batch(batch_size)\n",
    "        \n",
    "        "
   ]
  },
  {
   "cell_type": "code",
   "execution_count": null,
   "metadata": {},
   "outputs": [],
   "source": []
  }
 ],
 "metadata": {
  "kernelspec": {
   "display_name": "Python 3",
   "language": "python",
   "name": "python3"
  },
  "language_info": {
   "codemirror_mode": {
    "name": "ipython",
    "version": 3
   },
   "file_extension": ".py",
   "mimetype": "text/x-python",
   "name": "python",
   "nbconvert_exporter": "python",
   "pygments_lexer": "ipython3",
   "version": "3.5.3"
  }
 },
 "nbformat": 4,
 "nbformat_minor": 2
}
