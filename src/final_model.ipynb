{
 "cells": [
  {
   "cell_type": "code",
   "execution_count": 1,
   "metadata": {},
   "outputs": [],
   "source": [
    "import tensorflow as tf\n",
    "import pandas as pd\n",
    "import numpy as np\n",
    "import matplotlib.pyplot as plt\n",
    "import os\n",
    "import skimage\n",
    "%matplotlib inline"
   ]
  },
  {
   "cell_type": "code",
   "execution_count": 2,
   "metadata": {},
   "outputs": [],
   "source": [
    "# path to data folder\n",
    "train_data_path = \"/home/jp_capo_98/Documents/ML-Silent-Speech-Recognition/Data/train_data/images/\"\n",
    "test_data_path = \"/home/jp_capo_98/Documents/ML-Silent-Speech-Recognition/Data/test_data/images/\""
   ]
  },
  {
   "cell_type": "code",
   "execution_count": 3,
   "metadata": {},
   "outputs": [],
   "source": [
    "# import train data\n",
    "train_data = {\"label\":[], \"ch1\":[], \"ch2\":[], \"ch3\":[], \"ch4\":[]}\n",
    "for folder in os.listdir(train_data_path):\n",
    "    dataset_folder = train_data_path + folder + \"/\"\n",
    "    for subdir in os.listdir(dataset_folder):\n",
    "        label = subdir\n",
    "        train_subdir = dataset_folder + subdir + \"/\"\n",
    "        ch1_subdir = train_subdir + \"ch1/\"\n",
    "        for file in os.listdir(ch1_subdir):\n",
    "            ch1_filepath = train_subdir + \"ch1/\" + file\n",
    "            ch2_filepath = train_subdir + \"ch2/\" + file\n",
    "            ch3_filepath = train_subdir + \"ch3/\" + file\n",
    "            ch4_filepath = train_subdir + \"ch4/\" + file\n",
    "            train_data[\"label\"].append(label)\n",
    "            train_data[\"ch1\"].append(ch1_filepath)\n",
    "            train_data[\"ch2\"].append(ch2_filepath)\n",
    "            train_data[\"ch3\"].append(ch3_filepath)\n",
    "            train_data[\"ch4\"].append(ch4_filepath)"
   ]
  },
  {
   "cell_type": "code",
   "execution_count": 4,
   "metadata": {},
   "outputs": [
    {
     "data": {
      "text/html": [
       "<div>\n",
       "<style scoped>\n",
       "    .dataframe tbody tr th:only-of-type {\n",
       "        vertical-align: middle;\n",
       "    }\n",
       "\n",
       "    .dataframe tbody tr th {\n",
       "        vertical-align: top;\n",
       "    }\n",
       "\n",
       "    .dataframe thead th {\n",
       "        text-align: right;\n",
       "    }\n",
       "</style>\n",
       "<table border=\"1\" class=\"dataframe\">\n",
       "  <thead>\n",
       "    <tr style=\"text-align: right;\">\n",
       "      <th></th>\n",
       "      <th>ch1</th>\n",
       "      <th>ch2</th>\n",
       "      <th>ch3</th>\n",
       "      <th>ch4</th>\n",
       "      <th>label</th>\n",
       "    </tr>\n",
       "  </thead>\n",
       "  <tbody>\n",
       "    <tr>\n",
       "      <th>0</th>\n",
       "      <td>/home/jp_capo_98/Documents/ML-Silent-Speech-Re...</td>\n",
       "      <td>/home/jp_capo_98/Documents/ML-Silent-Speech-Re...</td>\n",
       "      <td>/home/jp_capo_98/Documents/ML-Silent-Speech-Re...</td>\n",
       "      <td>/home/jp_capo_98/Documents/ML-Silent-Speech-Re...</td>\n",
       "      <td>one</td>\n",
       "    </tr>\n",
       "    <tr>\n",
       "      <th>1</th>\n",
       "      <td>/home/jp_capo_98/Documents/ML-Silent-Speech-Re...</td>\n",
       "      <td>/home/jp_capo_98/Documents/ML-Silent-Speech-Re...</td>\n",
       "      <td>/home/jp_capo_98/Documents/ML-Silent-Speech-Re...</td>\n",
       "      <td>/home/jp_capo_98/Documents/ML-Silent-Speech-Re...</td>\n",
       "      <td>one</td>\n",
       "    </tr>\n",
       "    <tr>\n",
       "      <th>2</th>\n",
       "      <td>/home/jp_capo_98/Documents/ML-Silent-Speech-Re...</td>\n",
       "      <td>/home/jp_capo_98/Documents/ML-Silent-Speech-Re...</td>\n",
       "      <td>/home/jp_capo_98/Documents/ML-Silent-Speech-Re...</td>\n",
       "      <td>/home/jp_capo_98/Documents/ML-Silent-Speech-Re...</td>\n",
       "      <td>one</td>\n",
       "    </tr>\n",
       "    <tr>\n",
       "      <th>3</th>\n",
       "      <td>/home/jp_capo_98/Documents/ML-Silent-Speech-Re...</td>\n",
       "      <td>/home/jp_capo_98/Documents/ML-Silent-Speech-Re...</td>\n",
       "      <td>/home/jp_capo_98/Documents/ML-Silent-Speech-Re...</td>\n",
       "      <td>/home/jp_capo_98/Documents/ML-Silent-Speech-Re...</td>\n",
       "      <td>one</td>\n",
       "    </tr>\n",
       "    <tr>\n",
       "      <th>4</th>\n",
       "      <td>/home/jp_capo_98/Documents/ML-Silent-Speech-Re...</td>\n",
       "      <td>/home/jp_capo_98/Documents/ML-Silent-Speech-Re...</td>\n",
       "      <td>/home/jp_capo_98/Documents/ML-Silent-Speech-Re...</td>\n",
       "      <td>/home/jp_capo_98/Documents/ML-Silent-Speech-Re...</td>\n",
       "      <td>one</td>\n",
       "    </tr>\n",
       "  </tbody>\n",
       "</table>\n",
       "</div>"
      ],
      "text/plain": [
       "                                                 ch1  \\\n",
       "0  /home/jp_capo_98/Documents/ML-Silent-Speech-Re...   \n",
       "1  /home/jp_capo_98/Documents/ML-Silent-Speech-Re...   \n",
       "2  /home/jp_capo_98/Documents/ML-Silent-Speech-Re...   \n",
       "3  /home/jp_capo_98/Documents/ML-Silent-Speech-Re...   \n",
       "4  /home/jp_capo_98/Documents/ML-Silent-Speech-Re...   \n",
       "\n",
       "                                                 ch2  \\\n",
       "0  /home/jp_capo_98/Documents/ML-Silent-Speech-Re...   \n",
       "1  /home/jp_capo_98/Documents/ML-Silent-Speech-Re...   \n",
       "2  /home/jp_capo_98/Documents/ML-Silent-Speech-Re...   \n",
       "3  /home/jp_capo_98/Documents/ML-Silent-Speech-Re...   \n",
       "4  /home/jp_capo_98/Documents/ML-Silent-Speech-Re...   \n",
       "\n",
       "                                                 ch3  \\\n",
       "0  /home/jp_capo_98/Documents/ML-Silent-Speech-Re...   \n",
       "1  /home/jp_capo_98/Documents/ML-Silent-Speech-Re...   \n",
       "2  /home/jp_capo_98/Documents/ML-Silent-Speech-Re...   \n",
       "3  /home/jp_capo_98/Documents/ML-Silent-Speech-Re...   \n",
       "4  /home/jp_capo_98/Documents/ML-Silent-Speech-Re...   \n",
       "\n",
       "                                                 ch4 label  \n",
       "0  /home/jp_capo_98/Documents/ML-Silent-Speech-Re...   one  \n",
       "1  /home/jp_capo_98/Documents/ML-Silent-Speech-Re...   one  \n",
       "2  /home/jp_capo_98/Documents/ML-Silent-Speech-Re...   one  \n",
       "3  /home/jp_capo_98/Documents/ML-Silent-Speech-Re...   one  \n",
       "4  /home/jp_capo_98/Documents/ML-Silent-Speech-Re...   one  "
      ]
     },
     "execution_count": 4,
     "metadata": {},
     "output_type": "execute_result"
    }
   ],
   "source": [
    "train_data_df = pd.DataFrame(train_data)\n",
    "train_data_df.head()"
   ]
  },
  {
   "cell_type": "code",
   "execution_count": 5,
   "metadata": {},
   "outputs": [],
   "source": [
    "# import test_data\n",
    "test_data = {\"filename\":[], \"ch1\":[], \"ch2\":[], \"ch3\":[], \"ch4\":[]}\n",
    "for folder in os.listdir(test_data_path):\n",
    "    filename = folder\n",
    "    test_subdir = test_data_path + folder + \"/\"\n",
    "    ch1_filepath = test_subdir + \"ch1.png\"\n",
    "    ch2_filepath = test_subdir + \"ch2.png\"\n",
    "    ch3_filepath = test_subdir + \"ch3.png\"\n",
    "    ch4_filepath = test_subdir + \"ch4.png\"\n",
    "    test_data[\"filename\"].append(filename)\n",
    "    test_data[\"ch1\"].append(ch1_filepath)\n",
    "    test_data[\"ch2\"].append(ch2_filepath)\n",
    "    test_data[\"ch3\"].append(ch3_filepath)\n",
    "    test_data[\"ch4\"].append(ch4_filepath)"
   ]
  },
  {
   "cell_type": "code",
   "execution_count": 6,
   "metadata": {},
   "outputs": [
    {
     "data": {
      "text/html": [
       "<div>\n",
       "<style scoped>\n",
       "    .dataframe tbody tr th:only-of-type {\n",
       "        vertical-align: middle;\n",
       "    }\n",
       "\n",
       "    .dataframe tbody tr th {\n",
       "        vertical-align: top;\n",
       "    }\n",
       "\n",
       "    .dataframe thead th {\n",
       "        text-align: right;\n",
       "    }\n",
       "</style>\n",
       "<table border=\"1\" class=\"dataframe\">\n",
       "  <thead>\n",
       "    <tr style=\"text-align: right;\">\n",
       "      <th></th>\n",
       "      <th>ch1</th>\n",
       "      <th>ch2</th>\n",
       "      <th>ch3</th>\n",
       "      <th>ch4</th>\n",
       "      <th>filename</th>\n",
       "    </tr>\n",
       "  </thead>\n",
       "  <tbody>\n",
       "    <tr>\n",
       "      <th>0</th>\n",
       "      <td>/home/jp_capo_98/Documents/ML-Silent-Speech-Re...</td>\n",
       "      <td>/home/jp_capo_98/Documents/ML-Silent-Speech-Re...</td>\n",
       "      <td>/home/jp_capo_98/Documents/ML-Silent-Speech-Re...</td>\n",
       "      <td>/home/jp_capo_98/Documents/ML-Silent-Speech-Re...</td>\n",
       "      <td>Y3K7JETF</td>\n",
       "    </tr>\n",
       "    <tr>\n",
       "      <th>1</th>\n",
       "      <td>/home/jp_capo_98/Documents/ML-Silent-Speech-Re...</td>\n",
       "      <td>/home/jp_capo_98/Documents/ML-Silent-Speech-Re...</td>\n",
       "      <td>/home/jp_capo_98/Documents/ML-Silent-Speech-Re...</td>\n",
       "      <td>/home/jp_capo_98/Documents/ML-Silent-Speech-Re...</td>\n",
       "      <td>W6HOIV84</td>\n",
       "    </tr>\n",
       "    <tr>\n",
       "      <th>2</th>\n",
       "      <td>/home/jp_capo_98/Documents/ML-Silent-Speech-Re...</td>\n",
       "      <td>/home/jp_capo_98/Documents/ML-Silent-Speech-Re...</td>\n",
       "      <td>/home/jp_capo_98/Documents/ML-Silent-Speech-Re...</td>\n",
       "      <td>/home/jp_capo_98/Documents/ML-Silent-Speech-Re...</td>\n",
       "      <td>UT7X0FXK</td>\n",
       "    </tr>\n",
       "    <tr>\n",
       "      <th>3</th>\n",
       "      <td>/home/jp_capo_98/Documents/ML-Silent-Speech-Re...</td>\n",
       "      <td>/home/jp_capo_98/Documents/ML-Silent-Speech-Re...</td>\n",
       "      <td>/home/jp_capo_98/Documents/ML-Silent-Speech-Re...</td>\n",
       "      <td>/home/jp_capo_98/Documents/ML-Silent-Speech-Re...</td>\n",
       "      <td>396IEJUQ</td>\n",
       "    </tr>\n",
       "    <tr>\n",
       "      <th>4</th>\n",
       "      <td>/home/jp_capo_98/Documents/ML-Silent-Speech-Re...</td>\n",
       "      <td>/home/jp_capo_98/Documents/ML-Silent-Speech-Re...</td>\n",
       "      <td>/home/jp_capo_98/Documents/ML-Silent-Speech-Re...</td>\n",
       "      <td>/home/jp_capo_98/Documents/ML-Silent-Speech-Re...</td>\n",
       "      <td>ETWR1EHV</td>\n",
       "    </tr>\n",
       "  </tbody>\n",
       "</table>\n",
       "</div>"
      ],
      "text/plain": [
       "                                                 ch1  \\\n",
       "0  /home/jp_capo_98/Documents/ML-Silent-Speech-Re...   \n",
       "1  /home/jp_capo_98/Documents/ML-Silent-Speech-Re...   \n",
       "2  /home/jp_capo_98/Documents/ML-Silent-Speech-Re...   \n",
       "3  /home/jp_capo_98/Documents/ML-Silent-Speech-Re...   \n",
       "4  /home/jp_capo_98/Documents/ML-Silent-Speech-Re...   \n",
       "\n",
       "                                                 ch2  \\\n",
       "0  /home/jp_capo_98/Documents/ML-Silent-Speech-Re...   \n",
       "1  /home/jp_capo_98/Documents/ML-Silent-Speech-Re...   \n",
       "2  /home/jp_capo_98/Documents/ML-Silent-Speech-Re...   \n",
       "3  /home/jp_capo_98/Documents/ML-Silent-Speech-Re...   \n",
       "4  /home/jp_capo_98/Documents/ML-Silent-Speech-Re...   \n",
       "\n",
       "                                                 ch3  \\\n",
       "0  /home/jp_capo_98/Documents/ML-Silent-Speech-Re...   \n",
       "1  /home/jp_capo_98/Documents/ML-Silent-Speech-Re...   \n",
       "2  /home/jp_capo_98/Documents/ML-Silent-Speech-Re...   \n",
       "3  /home/jp_capo_98/Documents/ML-Silent-Speech-Re...   \n",
       "4  /home/jp_capo_98/Documents/ML-Silent-Speech-Re...   \n",
       "\n",
       "                                                 ch4  filename  \n",
       "0  /home/jp_capo_98/Documents/ML-Silent-Speech-Re...  Y3K7JETF  \n",
       "1  /home/jp_capo_98/Documents/ML-Silent-Speech-Re...  W6HOIV84  \n",
       "2  /home/jp_capo_98/Documents/ML-Silent-Speech-Re...  UT7X0FXK  \n",
       "3  /home/jp_capo_98/Documents/ML-Silent-Speech-Re...  396IEJUQ  \n",
       "4  /home/jp_capo_98/Documents/ML-Silent-Speech-Re...  ETWR1EHV  "
      ]
     },
     "execution_count": 6,
     "metadata": {},
     "output_type": "execute_result"
    }
   ],
   "source": [
    "test_data_df = pd.DataFrame(test_data)\n",
    "test_data_df.head()"
   ]
  },
  {
   "cell_type": "code",
   "execution_count": 7,
   "metadata": {},
   "outputs": [],
   "source": [
    "# one hot encoding dictionary\n",
    "one_hot_encoding = {\"one\":[1, 0],\n",
    "                   \"two\":[0, 1]}"
   ]
  },
  {
   "cell_type": "code",
   "execution_count": 8,
   "metadata": {},
   "outputs": [],
   "source": [
    "# one hot decoding dictionary for argmax\n",
    "one_hot_decoding = {0:\"one\",\n",
    "                   1:\"two\"}"
   ]
  },
  {
   "cell_type": "code",
   "execution_count": 9,
   "metadata": {},
   "outputs": [
    {
     "data": {
      "text/plain": [
       "<matplotlib.image.AxesImage at 0x7f5078eca550>"
      ]
     },
     "execution_count": 9,
     "metadata": {},
     "output_type": "execute_result"
    },
    {
     "data": {
      "image/png": "[encoded data removed]",
      "text/plain": [
       "<Figure size 432x288 with 1 Axes>"
      ]
     },
     "metadata": {},
     "output_type": "display_data"
    }
   ],
   "source": [
    "# Show one of the train spectograms\n",
    "sample = train_data_df.sample()\n",
    "plt.imshow(skimage.io.imread(sample.ch4.iloc[0]))"
   ]
  },
  {
   "cell_type": "code",
   "execution_count": 10,
   "metadata": {},
   "outputs": [
    {
     "data": {
      "text/plain": [
       "(513, 800, 3)"
      ]
     },
     "execution_count": 10,
     "metadata": {},
     "output_type": "execute_result"
    }
   ],
   "source": [
    "skimage.io.imread(sample.ch4.iloc[0]).shape"
   ]
  },
  {
   "cell_type": "code",
   "execution_count": 11,
   "metadata": {},
   "outputs": [
    {
     "data": {
      "text/html": [
       "<div>\n",
       "<style scoped>\n",
       "    .dataframe tbody tr th:only-of-type {\n",
       "        vertical-align: middle;\n",
       "    }\n",
       "\n",
       "    .dataframe tbody tr th {\n",
       "        vertical-align: top;\n",
       "    }\n",
       "\n",
       "    .dataframe thead th {\n",
       "        text-align: right;\n",
       "    }\n",
       "</style>\n",
       "<table border=\"1\" class=\"dataframe\">\n",
       "  <thead>\n",
       "    <tr style=\"text-align: right;\">\n",
       "      <th></th>\n",
       "      <th>ch1</th>\n",
       "      <th>ch2</th>\n",
       "      <th>ch3</th>\n",
       "      <th>ch4</th>\n",
       "      <th>label</th>\n",
       "    </tr>\n",
       "  </thead>\n",
       "  <tbody>\n",
       "    <tr>\n",
       "      <th>0</th>\n",
       "      <td>/home/jp_capo_98/Documents/ML-Silent-Speech-Re...</td>\n",
       "      <td>/home/jp_capo_98/Documents/ML-Silent-Speech-Re...</td>\n",
       "      <td>/home/jp_capo_98/Documents/ML-Silent-Speech-Re...</td>\n",
       "      <td>/home/jp_capo_98/Documents/ML-Silent-Speech-Re...</td>\n",
       "      <td>two</td>\n",
       "    </tr>\n",
       "    <tr>\n",
       "      <th>1</th>\n",
       "      <td>/home/jp_capo_98/Documents/ML-Silent-Speech-Re...</td>\n",
       "      <td>/home/jp_capo_98/Documents/ML-Silent-Speech-Re...</td>\n",
       "      <td>/home/jp_capo_98/Documents/ML-Silent-Speech-Re...</td>\n",
       "      <td>/home/jp_capo_98/Documents/ML-Silent-Speech-Re...</td>\n",
       "      <td>two</td>\n",
       "    </tr>\n",
       "    <tr>\n",
       "      <th>2</th>\n",
       "      <td>/home/jp_capo_98/Documents/ML-Silent-Speech-Re...</td>\n",
       "      <td>/home/jp_capo_98/Documents/ML-Silent-Speech-Re...</td>\n",
       "      <td>/home/jp_capo_98/Documents/ML-Silent-Speech-Re...</td>\n",
       "      <td>/home/jp_capo_98/Documents/ML-Silent-Speech-Re...</td>\n",
       "      <td>one</td>\n",
       "    </tr>\n",
       "    <tr>\n",
       "      <th>3</th>\n",
       "      <td>/home/jp_capo_98/Documents/ML-Silent-Speech-Re...</td>\n",
       "      <td>/home/jp_capo_98/Documents/ML-Silent-Speech-Re...</td>\n",
       "      <td>/home/jp_capo_98/Documents/ML-Silent-Speech-Re...</td>\n",
       "      <td>/home/jp_capo_98/Documents/ML-Silent-Speech-Re...</td>\n",
       "      <td>two</td>\n",
       "    </tr>\n",
       "    <tr>\n",
       "      <th>4</th>\n",
       "      <td>/home/jp_capo_98/Documents/ML-Silent-Speech-Re...</td>\n",
       "      <td>/home/jp_capo_98/Documents/ML-Silent-Speech-Re...</td>\n",
       "      <td>/home/jp_capo_98/Documents/ML-Silent-Speech-Re...</td>\n",
       "      <td>/home/jp_capo_98/Documents/ML-Silent-Speech-Re...</td>\n",
       "      <td>two</td>\n",
       "    </tr>\n",
       "  </tbody>\n",
       "</table>\n",
       "</div>"
      ],
      "text/plain": [
       "                                                 ch1  \\\n",
       "0  /home/jp_capo_98/Documents/ML-Silent-Speech-Re...   \n",
       "1  /home/jp_capo_98/Documents/ML-Silent-Speech-Re...   \n",
       "2  /home/jp_capo_98/Documents/ML-Silent-Speech-Re...   \n",
       "3  /home/jp_capo_98/Documents/ML-Silent-Speech-Re...   \n",
       "4  /home/jp_capo_98/Documents/ML-Silent-Speech-Re...   \n",
       "\n",
       "                                                 ch2  \\\n",
       "0  /home/jp_capo_98/Documents/ML-Silent-Speech-Re...   \n",
       "1  /home/jp_capo_98/Documents/ML-Silent-Speech-Re...   \n",
       "2  /home/jp_capo_98/Documents/ML-Silent-Speech-Re...   \n",
       "3  /home/jp_capo_98/Documents/ML-Silent-Speech-Re...   \n",
       "4  /home/jp_capo_98/Documents/ML-Silent-Speech-Re...   \n",
       "\n",
       "                                                 ch3  \\\n",
       "0  /home/jp_capo_98/Documents/ML-Silent-Speech-Re...   \n",
       "1  /home/jp_capo_98/Documents/ML-Silent-Speech-Re...   \n",
       "2  /home/jp_capo_98/Documents/ML-Silent-Speech-Re...   \n",
       "3  /home/jp_capo_98/Documents/ML-Silent-Speech-Re...   \n",
       "4  /home/jp_capo_98/Documents/ML-Silent-Speech-Re...   \n",
       "\n",
       "                                                 ch4 label  \n",
       "0  /home/jp_capo_98/Documents/ML-Silent-Speech-Re...   two  \n",
       "1  /home/jp_capo_98/Documents/ML-Silent-Speech-Re...   two  \n",
       "2  /home/jp_capo_98/Documents/ML-Silent-Speech-Re...   one  \n",
       "3  /home/jp_capo_98/Documents/ML-Silent-Speech-Re...   two  \n",
       "4  /home/jp_capo_98/Documents/ML-Silent-Speech-Re...   two  "
      ]
     },
     "execution_count": 11,
     "metadata": {},
     "output_type": "execute_result"
    }
   ],
   "source": [
    "# shufle data frame to make diferent datasets\n",
    "shuffled_df = train_data_df.sample(frac=1).reset_index(drop=True)\n",
    "shuffled_df.head()"
   ]
  },
  {
   "cell_type": "code",
   "execution_count": 12,
   "metadata": {},
   "outputs": [
    {
     "data": {
      "text/plain": [
       "(5119, 5)"
      ]
     },
     "execution_count": 12,
     "metadata": {},
     "output_type": "execute_result"
    }
   ],
   "source": [
    "shuffled_df.shape"
   ]
  },
  {
   "cell_type": "markdown",
   "metadata": {},
   "source": [
    "### Separate train data"
   ]
  },
  {
   "cell_type": "code",
   "execution_count": 13,
   "metadata": {},
   "outputs": [
    {
     "data": {
      "text/plain": [
       "array([0, 1])"
      ]
     },
     "execution_count": 13,
     "metadata": {},
     "output_type": "execute_result"
    }
   ],
   "source": [
    "# clean labels\n",
    "labels = np.array([one_hot_encoding[val] for val in shuffled_df.label.values])\n",
    "labels[0]"
   ]
  },
  {
   "cell_type": "code",
   "execution_count": 14,
   "metadata": {},
   "outputs": [],
   "source": [
    "# training data\n",
    "train_data_labels = labels[:4609]\n",
    "train_data_ch1 = shuffled_df.ch1.values[:4609]\n",
    "train_data_ch2 = shuffled_df.ch2.values[:4609]\n",
    "train_data_ch3 = shuffled_df.ch3.values[:4609]\n",
    "train_data_ch4 = shuffled_df.ch4.values[:4609]"
   ]
  },
  {
   "cell_type": "code",
   "execution_count": 15,
   "metadata": {},
   "outputs": [],
   "source": [
    "# validation data\n",
    "validation_data_labels = labels[4609:]\n",
    "validation_data_ch1 = shuffled_df.ch1.values[4609:]\n",
    "validation_data_ch2 = shuffled_df.ch2.values[4609:]\n",
    "validation_data_ch3 = shuffled_df.ch3.values[4609:]\n",
    "validation_data_ch4 = shuffled_df.ch4.values[4609:]"
   ]
  },
  {
   "cell_type": "markdown",
   "metadata": {},
   "source": [
    "### Prepare test data"
   ]
  },
  {
   "cell_type": "code",
   "execution_count": 16,
   "metadata": {},
   "outputs": [
    {
     "data": {
      "text/plain": [
       "0    Y3K7JETF\n",
       "1    W6HOIV84\n",
       "2    UT7X0FXK\n",
       "3    396IEJUQ\n",
       "4    ETWR1EHV\n",
       "Name: filename, dtype: object"
      ]
     },
     "execution_count": 16,
     "metadata": {},
     "output_type": "execute_result"
    }
   ],
   "source": [
    "test_data_filenames = test_data_df[\"filename\"]\n",
    "test_data_filenames.head()"
   ]
  },
  {
   "cell_type": "code",
   "execution_count": 17,
   "metadata": {},
   "outputs": [],
   "source": [
    "test_data_ch1 = test_data_df[\"ch1\"]\n",
    "test_data_ch2 = test_data_df[\"ch2\"]\n",
    "test_data_ch3 = test_data_df[\"ch3\"]\n",
    "test_data_ch4 = test_data_df[\"ch4\"]"
   ]
  },
  {
   "cell_type": "markdown",
   "metadata": {},
   "source": [
    "### Helper functions"
   ]
  },
  {
   "cell_type": "code",
   "execution_count": 18,
   "metadata": {},
   "outputs": [],
   "source": [
    "# weight initialization helper function\n",
    "def init_weights(shape):\n",
    "    init_random_dist = tf.truncated_normal(shape, stddev=0.1)\n",
    "    return(tf.Variable(init_random_dist))"
   ]
  },
  {
   "cell_type": "code",
   "execution_count": 19,
   "metadata": {},
   "outputs": [],
   "source": [
    "# bias initialization function\n",
    "def init_bias(shape):\n",
    "    init_bias_vals = tf.constant(0.1,  shape=shape)\n",
    "    return (tf.Variable(init_bias_vals))"
   ]
  },
  {
   "cell_type": "code",
   "execution_count": 20,
   "metadata": {},
   "outputs": [],
   "source": [
    "# 2d convolutional layer\n",
    "def conv2d(x, W):\n",
    "    return (tf.nn.conv2d(x, W, strides=[1,1,1,1], padding=\"SAME\"))"
   ]
  },
  {
   "cell_type": "code",
   "execution_count": 21,
   "metadata": {},
   "outputs": [],
   "source": [
    "# max pool layer\n",
    "def max_pool_2by2(x):\n",
    "    return (tf.nn.max_pool(x, ksize=[1,2,2,1], strides=[1,2,2,1], padding=\"SAME\"))"
   ]
  },
  {
   "cell_type": "code",
   "execution_count": 22,
   "metadata": {},
   "outputs": [],
   "source": [
    "def convolutional_layer(input_x, shape):\n",
    "    W = init_weights(shape)\n",
    "    b = init_bias([shape[3]])\n",
    "    return (tf.nn.relu(conv2d(input_x, W)+b))"
   ]
  },
  {
   "cell_type": "code",
   "execution_count": 23,
   "metadata": {},
   "outputs": [],
   "source": [
    "def normal_full_layer(input_layer, size):\n",
    "    input_size = int(input_layer.get_shape()[1])\n",
    "    W = init_weights([input_size, size])\n",
    "    b = init_bias([size])\n",
    "    return (tf.nn.relu(tf.matmul(input_layer, W)+b))"
   ]
  },
  {
   "cell_type": "code",
   "execution_count": 24,
   "metadata": {},
   "outputs": [],
   "source": [
    "def output_full_layer(input_layer, size):\n",
    "    input_size = int(input_layer.get_shape()[1])\n",
    "    W = init_weights([input_size, size])\n",
    "    b = init_bias([size])\n",
    "    return (tf.matmul(input_layer, W)+b)"
   ]
  },
  {
   "cell_type": "markdown",
   "metadata": {},
   "source": [
    "## GRAPH"
   ]
  },
  {
   "cell_type": "markdown",
   "metadata": {},
   "source": [
    "### Placeholders"
   ]
  },
  {
   "cell_type": "code",
   "execution_count": 25,
   "metadata": {},
   "outputs": [],
   "source": [
    "with tf.name_scope(\"Inputs\"):\n",
    "    # getting images\n",
    "    ch1_input = tf.placeholder(tf.float32, shape=[None, 50, 200, 3], name=\"ch1_input\")\n",
    "    ch2_input = tf.placeholder(tf.float32, shape=[None, 50, 200, 3], name=\"ch2_input\")\n",
    "    ch3_input = tf.placeholder(tf.float32, shape=[None, 50, 200, 3], name=\"ch3_input\")\n",
    "    ch4_input = tf.placeholder(tf.float32, shape=[None, 50, 200, 3], name=\"ch4_input\")\n",
    "    # gettin the one hot labels\n",
    "    y_true = tf.placeholder(tf.float32, shape=[None, 2], name=\"labels\")\n",
    "    # getting hold probability value\n",
    "    hold_prob = tf.placeholder(tf.float32, name=\"hold_probability\")\n",
    "    # batch size\n",
    "    batch_size = tf.placeholder(tf.int64, name=\"batch_size\")\n",
    "    # number of parallel calls for dataset map\n",
    "    num_par_calls = tf.placeholder(tf.int32, name=\"num_par_calls\")\n",
    "    # learning rate\n",
    "    learning_rate = tf.placeholder(tf.float32, name=\"learning_rate\")"
   ]
  },
  {
   "cell_type": "markdown",
   "metadata": {},
   "source": [
    "### Datasets"
   ]
  },
  {
   "cell_type": "code",
   "execution_count": 26,
   "metadata": {},
   "outputs": [],
   "source": [
    "### image parsing fn\n",
    "def _image_parse_fn(label, ch1, ch2, ch3, ch4):\n",
    "    # reading file\n",
    "    ch1_img = tf.read_file(ch1)\n",
    "    ch2_img = tf.read_file(ch2)\n",
    "    ch3_img = tf.read_file(ch3)\n",
    "    ch4_img = tf.read_file(ch4)\n",
    "    # image decoding\n",
    "    ch1_img_decoded = tf.image.decode_png(ch1_img)\n",
    "    ch2_img_decoded = tf.image.decode_png(ch2_img)\n",
    "    ch3_img_decoded = tf.image.decode_png(ch3_img)\n",
    "    ch4_img_decoded = tf.image.decode_png(ch4_img)\n",
    "    # image cropping\n",
    "    ch1_img_resized = tf.image.crop_to_bounding_box(ch1_img_decoded, 463, 0, 50, 800)\n",
    "    ch2_img_resized = tf.image.crop_to_bounding_box(ch2_img_decoded, 463, 0, 50, 800)\n",
    "    ch3_img_resized = tf.image.crop_to_bounding_box(ch3_img_decoded, 463, 0, 50, 800)\n",
    "    ch4_img_resized = tf.image.crop_to_bounding_box(ch4_img_decoded, 463, 0, 50, 800)\n",
    "    # resize images\n",
    "    ch1_img_resized = tf.image.resize_images(ch1_img_resized, [50, 200])\n",
    "    ch2_img_resized = tf.image.resize_images(ch2_img_resized, [50, 200])\n",
    "    ch3_img_resized = tf.image.resize_images(ch3_img_resized, [50, 200])\n",
    "    ch4_img_resized = tf.image.resize_images(ch4_img_resized, [50, 200])\n",
    "    # normalize images\n",
    "    ch1_img_normalized = tf.div(ch1_img_resized, 255)\n",
    "    ch2_img_normalized = tf.div(ch2_img_resized, 255)\n",
    "    ch3_img_normalized = tf.div(ch3_img_resized, 255)\n",
    "    ch4_img_normalized = tf.div(ch4_img_resized, 255)\n",
    "    return (label, ch1_img_normalized, ch2_img_normalized, ch3_img_normalized, ch4_img_normalized)\n",
    "    \n",
    "    "
   ]
  },
  {
   "cell_type": "code",
   "execution_count": 27,
   "metadata": {},
   "outputs": [],
   "source": [
    "### Datasets\n",
    "with tf.name_scope(\"Datasets\"):\n",
    "    # Train Datasets\n",
    "    with tf.name_scope(\"Train_Dataset\"):\n",
    "        train_dataset = tf.data.Dataset.from_tensor_slices((train_data_labels,\n",
    "                                                           train_data_ch1,\n",
    "                                                           train_data_ch2,\n",
    "                                                           train_data_ch3,\n",
    "                                                           train_data_ch4))\n",
    "        train_dataset = train_dataset.shuffle(10000)\n",
    "        train_dataset = train_dataset.repeat()\n",
    "        train_dataset = train_dataset.map(_image_parse_fn, num_parallel_calls=num_par_calls)\n",
    "        train_dataset = train_dataset.batch(batch_size)\n",
    "    \n",
    "    # train evaluation dataset    \n",
    "    with tf.name_scope(\"eval_train_dataset\"):\n",
    "        eval_train_dataset = tf.data.Dataset.from_tensor_slices((train_data_labels,\n",
    "                                                           train_data_ch1,\n",
    "                                                           train_data_ch2,\n",
    "                                                           train_data_ch3,\n",
    "                                                           train_data_ch4))\n",
    "        eval_train_dataset = eval_train_dataset.map(_image_parse_fn, num_parallel_calls=num_par_calls)\n",
    "        eval_train_dataset = eval_train_dataset.batch(batch_size)\n",
    "    \n",
    "    # Validation dataset with only one epoch and no shuffle\n",
    "    with tf.name_scope(\"validation_dataset\"):\n",
    "        validation_dataset = tf.data.Dataset.from_tensor_slices((validation_data_labels,\n",
    "                                                           validation_data_ch1,\n",
    "                                                           validation_data_ch2,\n",
    "                                                           validation_data_ch3,\n",
    "                                                           validation_data_ch4))\n",
    "        validation_dataset = validation_dataset.map(_image_parse_fn, num_parallel_calls=num_par_calls)\n",
    "        validation_dataset = validation_dataset.batch(batch_size)\n",
    "    \n",
    "    # test dataset with only one epoch and no shuffle\n",
    "    with tf.name_scope(\"test_dataset\"):\n",
    "        test_dataset = tf.data.Dataset.from_tensor_slices((test_data_filenames,\n",
    "                                                           test_data_ch1,\n",
    "                                                           test_data_ch2,\n",
    "                                                           test_data_ch3,\n",
    "                                                           test_data_ch4))\n",
    "        test_dataset = test_dataset.map(_image_parse_fn, num_parallel_calls=num_par_calls)\n",
    "        test_dataset = test_dataset.batch(batch_size)\n",
    "    "
   ]
  },
  {
   "cell_type": "markdown",
   "metadata": {},
   "source": [
    "### Iterators"
   ]
  },
  {
   "cell_type": "code",
   "execution_count": 28,
   "metadata": {},
   "outputs": [],
   "source": [
    "with tf.name_scope(\"Iterator\"):\n",
    "    # train iterator\n",
    "    with tf.name_scope(\"Train_Iterator\"):\n",
    "        train_iterator = tf.data.Iterator.from_structure(train_dataset.output_types, train_dataset.output_shapes)\n",
    "        next_element_train = train_iterator.get_next()\n",
    "        train_init_op = train_iterator.make_initializer(train_dataset)\n",
    "    # train evaluation iterator\n",
    "    with tf.name_scope(\"train_evaluation_iterator\"):\n",
    "        eval_train_iterator = tf.data.Iterator.from_structure(eval_train_dataset.output_types, eval_train_dataset.output_shapes)\n",
    "        next_element_eval_train = eval_train_iterator.get_next()\n",
    "        eval_train_init_op = eval_train_iterator.make_initializer(eval_train_dataset)\n",
    "    # validation iterator\n",
    "    with tf.name_scope(\"validation_iterator\"):\n",
    "        validation_iterator = tf.data.Iterator.from_structure(validation_dataset.output_types, validation_dataset.output_shapes)\n",
    "        next_element_validation = validation_iterator.get_next()\n",
    "        validation_init_op = validation_iterator.make_initializer(validation_dataset)\n",
    "    # test iterator\n",
    "    with tf.name_scope(\"test_iterator\"):\n",
    "        test_iterator = tf.data.Iterator.from_structure(test_dataset.output_types, test_dataset.output_shapes)\n",
    "        next_element_test = test_iterator.get_next()\n",
    "        test_init_op = test_iterator.make_initializer(test_dataset)"
   ]
  },
  {
   "cell_type": "markdown",
   "metadata": {},
   "source": [
    "### Image concatenation"
   ]
  },
  {
   "cell_type": "code",
   "execution_count": 29,
   "metadata": {},
   "outputs": [],
   "source": [
    "with tf.name_scope(\"input_manipulation\"):\n",
    "    concat_input = tf.concat([ch1_input, ch2_input, ch3_input, ch4_input], 3, name=\"Image_concat\")"
   ]
  },
  {
   "cell_type": "markdown",
   "metadata": {},
   "source": [
    "### First Block - Convolutional and maxpool"
   ]
  },
  {
   "cell_type": "code",
   "execution_count": 30,
   "metadata": {},
   "outputs": [],
   "source": [
    "with tf.name_scope(\"First_cnn_block\"):\n",
    "    convo_1 = convolutional_layer(concat_input, shape=[5, 3, 12, 128])\n",
    "    maxpool_1 = max_pool_2by2(convo_1)\n",
    "    dropout_1 = tf.nn.dropout(maxpool_1, keep_prob=hold_prob)"
   ]
  },
  {
   "cell_type": "markdown",
   "metadata": {},
   "source": [
    "### Second Block - Convolutional and maxpool"
   ]
  },
  {
   "cell_type": "code",
   "execution_count": 31,
   "metadata": {},
   "outputs": [],
   "source": [
    "with tf.name_scope(\"Second_cnn_block\"):\n",
    "    convo_2 = convolutional_layer(dropout_1, shape=[5, 3, 128, 256])\n",
    "    maxpool_2 = max_pool_2by2(convo_2)\n",
    "    dropout_2 = tf.nn.dropout(maxpool_2, keep_prob=hold_prob)"
   ]
  },
  {
   "cell_type": "markdown",
   "metadata": {},
   "source": [
    "### Third Block - 2 Convolutionals and maxpool"
   ]
  },
  {
   "cell_type": "code",
   "execution_count": 32,
   "metadata": {},
   "outputs": [],
   "source": [
    "with tf.name_scope(\"Third_cnn_block\"):\n",
    "    convo_3 = convolutional_layer(dropout_2, shape=[3, 3, 256, 384])\n",
    "    convo_4 = convolutional_layer(convo_3, shape=[3, 3, 384, 384])\n",
    "    maxpool_3 = max_pool_2by2(convo_4)\n",
    "    dropout_3 = tf.nn.dropout(maxpool_3, keep_prob=hold_prob)\n",
    "# output shape: [None, 7, 25,384]"
   ]
  },
  {
   "cell_type": "markdown",
   "metadata": {},
   "source": [
    "### Fourth block - 2 Dense layers"
   ]
  },
  {
   "cell_type": "code",
   "execution_count": 33,
   "metadata": {},
   "outputs": [],
   "source": [
    "with tf.name_scope(\"Dense_layers_block\"):\n",
    "    flatten_1 = tf.reshape(dropout_3, [-1, 7*25*384])\n",
    "    dense_layer_1 = normal_full_layer(flatten_1, 256)\n",
    "    dense_layer_2 = normal_full_layer(dense_layer_1, 128)\n",
    "    dropout_4 = tf.nn.dropout(dense_layer_2, keep_prob=hold_prob)"
   ]
  },
  {
   "cell_type": "markdown",
   "metadata": {},
   "source": [
    "### Output_layer"
   ]
  },
  {
   "cell_type": "code",
   "execution_count": 34,
   "metadata": {},
   "outputs": [],
   "source": [
    "with tf.name_scope(\"Output_layer\"):\n",
    "    y_pred = output_full_layer(dropout_4, 2)"
   ]
  },
  {
   "cell_type": "markdown",
   "metadata": {},
   "source": [
    "### Loss function"
   ]
  },
  {
   "cell_type": "code",
   "execution_count": 35,
   "metadata": {},
   "outputs": [],
   "source": [
    "with tf.name_scope(\"Loss\"):\n",
    "    cross_entropy = tf.nn.softmax_cross_entropy_with_logits_v2(labels=y_true, logits=y_pred)\n",
    "    mean_cross_entropy = tf.reduce_mean(cross_entropy)"
   ]
  },
  {
   "cell_type": "markdown",
   "metadata": {},
   "source": [
    "### Optimizer"
   ]
  },
  {
   "cell_type": "code",
   "execution_count": 36,
   "metadata": {},
   "outputs": [],
   "source": [
    "# optimizer\n",
    "with tf.name_scope(\"optimizer\"):\n",
    "    optimizer = tf.train.AdamOptimizer(learning_rate=learning_rate)"
   ]
  },
  {
   "cell_type": "markdown",
   "metadata": {},
   "source": [
    "### Train function"
   ]
  },
  {
   "cell_type": "code",
   "execution_count": 37,
   "metadata": {},
   "outputs": [],
   "source": [
    "with tf.name_scope(\"training\"):\n",
    "    train = optimizer.minimize(mean_cross_entropy)"
   ]
  },
  {
   "cell_type": "markdown",
   "metadata": {},
   "source": [
    "### Prediction Function"
   ]
  },
  {
   "cell_type": "code",
   "execution_count": 38,
   "metadata": {},
   "outputs": [],
   "source": [
    "with tf.name_scope(\"Predicting\"):\n",
    "    y_soft = tf.nn.softmax(y_pred)\n",
    "    prediction = tf.argmax(y_soft, axis=1)"
   ]
  },
  {
   "cell_type": "markdown",
   "metadata": {},
   "source": [
    "### Evalution Metrics - Accuracy, Loss"
   ]
  },
  {
   "cell_type": "code",
   "execution_count": 39,
   "metadata": {},
   "outputs": [],
   "source": [
    "# Accuracy\n",
    "with tf.name_scope(\"Accuracy_tensorboard\"):\n",
    "    y_true_arg_max = tf.argmax(y_true, axis=1)\n",
    "    correct_predictions = tf.equal(prediction, y_true_arg_max)\n",
    "    batch_acc = tf.reduce_mean(tf.cast(correct_predictions, tf.float32))\n",
    "    acc_arr = tf.placeholder(tf.float32)\n",
    "    full_accuracy = tf.reduce_mean(acc_arr)\n",
    "    accuracy_summary = tf.summary.scalar(\"Accuracy\", full_accuracy)"
   ]
  },
  {
   "cell_type": "code",
   "execution_count": 40,
   "metadata": {},
   "outputs": [],
   "source": [
    "# Loss\n",
    "with tf.name_scope(\"Loss_tensorboard\"):\n",
    "    loss_arr = tf.placeholder(tf.float32)\n",
    "    full_loss = tf.reduce_mean(loss_arr)\n",
    "    loss_summary = tf.summary.scalar(\"Loss\", full_loss)"
   ]
  },
  {
   "cell_type": "code",
   "execution_count": 41,
   "metadata": {},
   "outputs": [],
   "source": [
    "# Summary merger\n",
    "merged_op = tf.summary.merge_all()"
   ]
  },
  {
   "cell_type": "markdown",
   "metadata": {},
   "source": [
    "### Checkpoint saver"
   ]
  },
  {
   "cell_type": "code",
   "execution_count": 42,
   "metadata": {},
   "outputs": [],
   "source": [
    "saver = tf.train.Saver()"
   ]
  },
  {
   "cell_type": "markdown",
   "metadata": {},
   "source": [
    "### Variable initializer"
   ]
  },
  {
   "cell_type": "code",
   "execution_count": 43,
   "metadata": {},
   "outputs": [],
   "source": [
    "init = tf.global_variables_initializer()"
   ]
  },
  {
   "cell_type": "code",
   "execution_count": 63,
   "metadata": {
    "scrolled": true
   },
   "outputs": [
    {
     "name": "stdout",
     "output_type": "stream",
     "text": [
      "INFO:tensorflow:Restoring parameters from ./model/final.ckpy\n",
      "Saved train summary at step #5400\n",
      "Saved validation summary at step #5400\n",
      "Saved train summary at step #5500\n",
      "Saved validation summary at step #5500\n",
      "Saved checkpoint in step #5500\n",
      "Saved train summary at step #5600\n",
      "Saved validation summary at step #5600\n",
      "Saved train summary at step #5700\n",
      "Saved validation summary at step #5700\n",
      "Saved train summary at step #5800\n",
      "Saved validation summary at step #5800\n",
      "Saved train summary at step #5900\n",
      "Saved validation summary at step #5900\n"
     ]
    },
    {
     "ename": "KeyboardInterrupt",
     "evalue": "",
     "output_type": "error",
     "traceback": [
      "\u001b[0;31m---------------------------------------------------------------------------\u001b[0m",
      "\u001b[0;31mKeyboardInterrupt\u001b[0m                         Traceback (most recent call last)",
      "\u001b[0;32m<ipython-input-63-c769fd06f317>\u001b[0m in \u001b[0;36m<module>\u001b[0;34m\u001b[0m\n\u001b[1;32m     81\u001b[0m         \u001b[0mfine\u001b[0m \u001b[0;34m=\u001b[0m \u001b[0;36m1\u001b[0m\u001b[0;34m\u001b[0m\u001b[0m\n\u001b[1;32m     82\u001b[0m         \u001b[0;32mtry\u001b[0m\u001b[0;34m:\u001b[0m\u001b[0;34m\u001b[0m\u001b[0m\n\u001b[0;32m---> 83\u001b[0;31m             \u001b[0mbatch_labels\u001b[0m\u001b[0;34m,\u001b[0m \u001b[0mbatch_ch1\u001b[0m\u001b[0;34m,\u001b[0m \u001b[0mbatch_ch2\u001b[0m\u001b[0;34m,\u001b[0m \u001b[0mbatch_ch3\u001b[0m\u001b[0;34m,\u001b[0m \u001b[0mbatch_ch4\u001b[0m \u001b[0;34m=\u001b[0m \u001b[0msess\u001b[0m\u001b[0;34m.\u001b[0m\u001b[0mrun\u001b[0m\u001b[0;34m(\u001b[0m\u001b[0mnext_element_train\u001b[0m\u001b[0;34m)\u001b[0m\u001b[0;34m\u001b[0m\u001b[0m\n\u001b[0m\u001b[1;32m     84\u001b[0m         \u001b[0;32mexcept\u001b[0m \u001b[0mtf\u001b[0m\u001b[0;34m.\u001b[0m\u001b[0merrors\u001b[0m\u001b[0;34m.\u001b[0m\u001b[0mInvalidArgumentError\u001b[0m\u001b[0;34m:\u001b[0m\u001b[0;34m\u001b[0m\u001b[0m\n\u001b[1;32m     85\u001b[0m             \u001b[0mfine\u001b[0m \u001b[0;34m=\u001b[0m \u001b[0;36m0\u001b[0m\u001b[0;34m\u001b[0m\u001b[0m\n",
      "\u001b[0;32m/usr/local/lib/python3.5/dist-packages/tensorflow/python/client/session.py\u001b[0m in \u001b[0;36mrun\u001b[0;34m(self, fetches, feed_dict, options, run_metadata)\u001b[0m\n\u001b[1;32m    927\u001b[0m     \u001b[0;32mtry\u001b[0m\u001b[0;34m:\u001b[0m\u001b[0;34m\u001b[0m\u001b[0m\n\u001b[1;32m    928\u001b[0m       result = self._run(None, fetches, feed_dict, options_ptr,\n\u001b[0;32m--> 929\u001b[0;31m                          run_metadata_ptr)\n\u001b[0m\u001b[1;32m    930\u001b[0m       \u001b[0;32mif\u001b[0m \u001b[0mrun_metadata\u001b[0m\u001b[0;34m:\u001b[0m\u001b[0;34m\u001b[0m\u001b[0m\n\u001b[1;32m    931\u001b[0m         \u001b[0mproto_data\u001b[0m \u001b[0;34m=\u001b[0m \u001b[0mtf_session\u001b[0m\u001b[0;34m.\u001b[0m\u001b[0mTF_GetBuffer\u001b[0m\u001b[0;34m(\u001b[0m\u001b[0mrun_metadata_ptr\u001b[0m\u001b[0;34m)\u001b[0m\u001b[0;34m\u001b[0m\u001b[0m\n",
      "\u001b[0;32m/usr/local/lib/python3.5/dist-packages/tensorflow/python/client/session.py\u001b[0m in \u001b[0;36m_run\u001b[0;34m(self, handle, fetches, feed_dict, options, run_metadata)\u001b[0m\n\u001b[1;32m   1150\u001b[0m     \u001b[0;32mif\u001b[0m \u001b[0mfinal_fetches\u001b[0m \u001b[0;32mor\u001b[0m \u001b[0mfinal_targets\u001b[0m \u001b[0;32mor\u001b[0m \u001b[0;34m(\u001b[0m\u001b[0mhandle\u001b[0m \u001b[0;32mand\u001b[0m \u001b[0mfeed_dict_tensor\u001b[0m\u001b[0;34m)\u001b[0m\u001b[0;34m:\u001b[0m\u001b[0;34m\u001b[0m\u001b[0m\n\u001b[1;32m   1151\u001b[0m       results = self._do_run(handle, final_targets, final_fetches,\n\u001b[0;32m-> 1152\u001b[0;31m                              feed_dict_tensor, options, run_metadata)\n\u001b[0m\u001b[1;32m   1153\u001b[0m     \u001b[0;32melse\u001b[0m\u001b[0;34m:\u001b[0m\u001b[0;34m\u001b[0m\u001b[0m\n\u001b[1;32m   1154\u001b[0m       \u001b[0mresults\u001b[0m \u001b[0;34m=\u001b[0m \u001b[0;34m[\u001b[0m\u001b[0;34m]\u001b[0m\u001b[0;34m\u001b[0m\u001b[0m\n",
      "\u001b[0;32m/usr/local/lib/python3.5/dist-packages/tensorflow/python/client/session.py\u001b[0m in \u001b[0;36m_do_run\u001b[0;34m(self, handle, target_list, fetch_list, feed_dict, options, run_metadata)\u001b[0m\n\u001b[1;32m   1326\u001b[0m     \u001b[0;32mif\u001b[0m \u001b[0mhandle\u001b[0m \u001b[0;32mis\u001b[0m \u001b[0;32mNone\u001b[0m\u001b[0;34m:\u001b[0m\u001b[0;34m\u001b[0m\u001b[0m\n\u001b[1;32m   1327\u001b[0m       return self._do_call(_run_fn, feeds, fetches, targets, options,\n\u001b[0;32m-> 1328\u001b[0;31m                            run_metadata)\n\u001b[0m\u001b[1;32m   1329\u001b[0m     \u001b[0;32melse\u001b[0m\u001b[0;34m:\u001b[0m\u001b[0;34m\u001b[0m\u001b[0m\n\u001b[1;32m   1330\u001b[0m       \u001b[0;32mreturn\u001b[0m \u001b[0mself\u001b[0m\u001b[0;34m.\u001b[0m\u001b[0m_do_call\u001b[0m\u001b[0;34m(\u001b[0m\u001b[0m_prun_fn\u001b[0m\u001b[0;34m,\u001b[0m \u001b[0mhandle\u001b[0m\u001b[0;34m,\u001b[0m \u001b[0mfeeds\u001b[0m\u001b[0;34m,\u001b[0m \u001b[0mfetches\u001b[0m\u001b[0;34m)\u001b[0m\u001b[0;34m\u001b[0m\u001b[0m\n",
      "\u001b[0;32m/usr/local/lib/python3.5/dist-packages/tensorflow/python/client/session.py\u001b[0m in \u001b[0;36m_do_call\u001b[0;34m(self, fn, *args)\u001b[0m\n\u001b[1;32m   1332\u001b[0m   \u001b[0;32mdef\u001b[0m \u001b[0m_do_call\u001b[0m\u001b[0;34m(\u001b[0m\u001b[0mself\u001b[0m\u001b[0;34m,\u001b[0m \u001b[0mfn\u001b[0m\u001b[0;34m,\u001b[0m \u001b[0;34m*\u001b[0m\u001b[0margs\u001b[0m\u001b[0;34m)\u001b[0m\u001b[0;34m:\u001b[0m\u001b[0;34m\u001b[0m\u001b[0m\n\u001b[1;32m   1333\u001b[0m     \u001b[0;32mtry\u001b[0m\u001b[0;34m:\u001b[0m\u001b[0;34m\u001b[0m\u001b[0m\n\u001b[0;32m-> 1334\u001b[0;31m       \u001b[0;32mreturn\u001b[0m \u001b[0mfn\u001b[0m\u001b[0;34m(\u001b[0m\u001b[0;34m*\u001b[0m\u001b[0margs\u001b[0m\u001b[0;34m)\u001b[0m\u001b[0;34m\u001b[0m\u001b[0m\n\u001b[0m\u001b[1;32m   1335\u001b[0m     \u001b[0;32mexcept\u001b[0m \u001b[0merrors\u001b[0m\u001b[0;34m.\u001b[0m\u001b[0mOpError\u001b[0m \u001b[0;32mas\u001b[0m \u001b[0me\u001b[0m\u001b[0;34m:\u001b[0m\u001b[0;34m\u001b[0m\u001b[0m\n\u001b[1;32m   1336\u001b[0m       \u001b[0mmessage\u001b[0m \u001b[0;34m=\u001b[0m \u001b[0mcompat\u001b[0m\u001b[0;34m.\u001b[0m\u001b[0mas_text\u001b[0m\u001b[0;34m(\u001b[0m\u001b[0me\u001b[0m\u001b[0;34m.\u001b[0m\u001b[0mmessage\u001b[0m\u001b[0;34m)\u001b[0m\u001b[0;34m\u001b[0m\u001b[0m\n",
      "\u001b[0;32m/usr/local/lib/python3.5/dist-packages/tensorflow/python/client/session.py\u001b[0m in \u001b[0;36m_run_fn\u001b[0;34m(feed_dict, fetch_list, target_list, options, run_metadata)\u001b[0m\n\u001b[1;32m   1317\u001b[0m       \u001b[0mself\u001b[0m\u001b[0;34m.\u001b[0m\u001b[0m_extend_graph\u001b[0m\u001b[0;34m(\u001b[0m\u001b[0;34m)\u001b[0m\u001b[0;34m\u001b[0m\u001b[0m\n\u001b[1;32m   1318\u001b[0m       return self._call_tf_sessionrun(\n\u001b[0;32m-> 1319\u001b[0;31m           options, feed_dict, fetch_list, target_list, run_metadata)\n\u001b[0m\u001b[1;32m   1320\u001b[0m \u001b[0;34m\u001b[0m\u001b[0m\n\u001b[1;32m   1321\u001b[0m     \u001b[0;32mdef\u001b[0m \u001b[0m_prun_fn\u001b[0m\u001b[0;34m(\u001b[0m\u001b[0mhandle\u001b[0m\u001b[0;34m,\u001b[0m \u001b[0mfeed_dict\u001b[0m\u001b[0;34m,\u001b[0m \u001b[0mfetch_list\u001b[0m\u001b[0;34m)\u001b[0m\u001b[0;34m:\u001b[0m\u001b[0;34m\u001b[0m\u001b[0m\n",
      "\u001b[0;32m/usr/local/lib/python3.5/dist-packages/tensorflow/python/client/session.py\u001b[0m in \u001b[0;36m_call_tf_sessionrun\u001b[0;34m(self, options, feed_dict, fetch_list, target_list, run_metadata)\u001b[0m\n\u001b[1;32m   1405\u001b[0m     return tf_session.TF_SessionRun_wrapper(\n\u001b[1;32m   1406\u001b[0m         \u001b[0mself\u001b[0m\u001b[0;34m.\u001b[0m\u001b[0m_session\u001b[0m\u001b[0;34m,\u001b[0m \u001b[0moptions\u001b[0m\u001b[0;34m,\u001b[0m \u001b[0mfeed_dict\u001b[0m\u001b[0;34m,\u001b[0m \u001b[0mfetch_list\u001b[0m\u001b[0;34m,\u001b[0m \u001b[0mtarget_list\u001b[0m\u001b[0;34m,\u001b[0m\u001b[0;34m\u001b[0m\u001b[0m\n\u001b[0;32m-> 1407\u001b[0;31m         run_metadata)\n\u001b[0m\u001b[1;32m   1408\u001b[0m \u001b[0;34m\u001b[0m\u001b[0m\n\u001b[1;32m   1409\u001b[0m   \u001b[0;32mdef\u001b[0m \u001b[0m_call_tf_sessionprun\u001b[0m\u001b[0;34m(\u001b[0m\u001b[0mself\u001b[0m\u001b[0;34m,\u001b[0m \u001b[0mhandle\u001b[0m\u001b[0;34m,\u001b[0m \u001b[0mfeed_dict\u001b[0m\u001b[0;34m,\u001b[0m \u001b[0mfetch_list\u001b[0m\u001b[0;34m)\u001b[0m\u001b[0;34m:\u001b[0m\u001b[0;34m\u001b[0m\u001b[0m\n",
      "\u001b[0;31mKeyboardInterrupt\u001b[0m: "
     ]
    }
   ],
   "source": [
    "batch_size_input = 32\n",
    "number_of_par_calls = 4\n",
    "learning_rate_input = 0.001\n",
    "dropout_input = 0.7\n",
    "with tf.Session(config=tf.ConfigProto(log_device_placement=True)) as sess:\n",
    "    # initiate variables\n",
    "    #sess.run(init)\n",
    "    \n",
    "    \n",
    "    saver.restore(sess, \"./model/final.ckpy\")\n",
    "    \n",
    "    # create filewriters for tensorboard\n",
    "    train_writer = tf.summary.FileWriter(\"./tensorboard/train_run2\", graph=tf.get_default_graph())\n",
    "    validation_writer = tf.summary.FileWriter(\"./tensorboard/validation_run2\", graph=tf.get_default_graph())\n",
    "    \n",
    "    # initiate training iterator\n",
    "    dataset_feed = {batch_size:batch_size_input, num_par_calls:number_of_par_calls}\n",
    "    sess.run(train_init_op, feed_dict=dataset_feed)\n",
    "    \n",
    "    # training\n",
    "    for step in range(5301, 10001):\n",
    "        fine = 1\n",
    "        # saving summary every one hundred steps\n",
    "        if step % 100 == 0:\n",
    "            # Evaluate training data metrics\n",
    "            acc = []\n",
    "            loss = []\n",
    "            sess.run(eval_train_init_op, feed_dict=dataset_feed)\n",
    "            # run one epoch on training evaluation dataset\n",
    "            for i in range(35):\n",
    "                fine = 1\n",
    "                try:\n",
    "                    batch_labels, batch_ch1, batch_ch2, batch_ch3, batch_ch4 = sess.run(next_element_eval_train)\n",
    "                except tf.errors.OutOfRangeError:\n",
    "                    break\n",
    "                except tf.errors.InvalidArgumentError:\n",
    "                    fine = 0\n",
    "                if (fine == 1):\n",
    "                    train_eval_feed = {y_true:batch_labels, ch1_input:batch_ch1, ch2_input:batch_ch2,\n",
    "                        ch3_input:batch_ch3, ch4_input:batch_ch4, hold_prob:1.0}\n",
    "                    acc.append(sess.run(batch_acc, feed_dict=train_eval_feed))\n",
    "                    loss.append(sess.run(mean_cross_entropy, feed_dict=train_eval_feed))\n",
    "                fine = 1\n",
    "            train_eval_feed = {acc_arr: acc, loss_arr:loss}\n",
    "            # save the summary\n",
    "            summary = sess.run(merged_op, feed_dict=train_eval_feed)\n",
    "            train_writer.add_summary(summary, step)\n",
    "            train_writer.flush()\n",
    "            print(\"Saved train summary at step #{}\".format(step))\n",
    "            \n",
    "            # Evaluate validation data metrics\n",
    "            acc = []\n",
    "            loss = []\n",
    "            sess.run(validation_init_op, feed_dict=dataset_feed)\n",
    "            while True:\n",
    "                fine = 1\n",
    "                try:\n",
    "                    batch_labels, batch_ch1, batch_ch2, batch_ch3, batch_ch4 = sess.run(next_element_validation)\n",
    "                except tf.errors.OutOfRangeError:\n",
    "                    break\n",
    "                except tf.errors.InvalidArgumentError:\n",
    "                    fine = 0\n",
    "                if (fine == 1):\n",
    "                    validation_feed = {y_true:batch_labels, ch1_input:batch_ch1, ch2_input:batch_ch2,\n",
    "                      ch3_input:batch_ch3, ch4_input:batch_ch4, hold_prob:1.0}\n",
    "                    acc.append(sess.run(batch_acc, feed_dict=validation_feed))\n",
    "                    loss.append(sess.run(mean_cross_entropy, feed_dict=validation_feed))\n",
    "                fine = 1\n",
    "            validation_feed = {acc_arr: acc, loss_arr:loss}\n",
    "            summary = sess.run(merged_op, feed_dict=validation_feed)\n",
    "            validation_writer.add_summary(summary, step)\n",
    "            validation_writer.flush()\n",
    "            print(\"Saved validation summary at step #{}\".format(step))\n",
    "        \n",
    "        # Checkpoint saving every 1000 steps\n",
    "        if step % 500 == 0:\n",
    "            saver.save(sess, \"./model/step_{}.ckpy\".format(step))\n",
    "            print(\"Saved checkpoint in step #{}\".format(step))\n",
    "        \n",
    "        # training\n",
    "        fine = 1\n",
    "        try:\n",
    "            batch_labels, batch_ch1, batch_ch2, batch_ch3, batch_ch4 = sess.run(next_element_train)\n",
    "        except tf.errors.InvalidArgumentError:\n",
    "            fine = 0\n",
    "        if (fine == 1):\n",
    "            train_feed = {y_true:batch_labels, ch1_input:batch_ch1, ch2_input:batch_ch2,\n",
    "                      ch3_input:batch_ch3, ch4_input:batch_ch4, hold_prob:dropout_input,\n",
    "                      learning_rate:learning_rate_input}\n",
    "            sess.run(train, feed_dict=train_feed)\n",
    "        if step == 0:\n",
    "            print(\"Finished first train call\")\n",
    "    \n",
    "    saver.save(sess, \"./model/final10k.ckpy\")\n",
    "    print(\"Training is done\")"
   ]
  },
  {
   "cell_type": "markdown",
   "metadata": {},
   "source": [
    "## Example Input"
   ]
  },
  {
   "cell_type": "code",
   "execution_count": null,
   "metadata": {},
   "outputs": [],
   "source": [
    "batch_size_input = 1\n",
    "number_of_par_calls = 2\n",
    "learning_rate_input = 0.001\n",
    "dropout_input = 1.0\n",
    "with tf.Session(config=tf.ConfigProto(log_device_placement=True)) as sess:\n",
    "    # initiate variables\n",
    "    sess.run(init)\n",
    "    \n",
    "    #saver.restore(sess, \"./best_models/eightyfouracc/final.ckpy\")\n",
    "    \n",
    "    # create filewriters for tensorboard\n",
    "    train_writer = tf.summary.FileWriter(\"./tensorboard/train_run2\", graph=tf.get_default_graph())\n",
    "    validation_writer = tf.summary.FileWriter(\"./tensorboard/validation_run2\", graph=tf.get_default_graph())\n",
    "    \n",
    "    # initiate training iterator\n",
    "    dataset_feed = {batch_size:batch_size_input, num_par_calls:number_of_par_calls}\n",
    "    sess.run(train_init_op, feed_dict=dataset_feed)\n",
    "    sess.run(validation_init_op, feed_dict=dataset_feed)\n",
    "            # run one epoch on training evaluation dataset\n",
    "    while True:\n",
    "        try:\n",
    "            batch_labels, batch_ch1, batch_ch2, batch_ch3, batch_ch4 = sess.run(next_element_validation)\n",
    "        except tf.errors.OutOfRangeError:\n",
    "            break\n",
    "        except tf.errors.InvalidArgumentError:\n",
    "            print(batch_labels)\n",
    "        train_eval_feed = {y_true:batch_labels, ch1_input:batch_ch1, ch2_input:batch_ch2,\n",
    "            ch3_input:batch_ch3, ch4_input:batch_ch4, hold_prob:1.0}\n",
    "#     train_feed = {y_true:batch_labels, ch1_input:batch_ch1, ch2_input:batch_ch2,\n",
    "#                   ch3_input:batch_ch3, ch4_input:batch_ch4, hold_prob:dropout_input,\n",
    "#                   learning_rate:learning_rate_input}\n",
    "#     res = sess.run(dropout_3, feed_dict=train_feed)\n",
    "    "
   ]
  },
  {
   "cell_type": "code",
   "execution_count": null,
   "metadata": {},
   "outputs": [],
   "source": [
    "batch_labels.shape"
   ]
  },
  {
   "cell_type": "code",
   "execution_count": null,
   "metadata": {},
   "outputs": [],
   "source": [
    "plt.imshow(res[1][0])"
   ]
  },
  {
   "cell_type": "markdown",
   "metadata": {},
   "source": [
    "## Predictions"
   ]
  },
  {
   "cell_type": "code",
   "execution_count": 47,
   "metadata": {
    "scrolled": true
   },
   "outputs": [
    {
     "name": "stdout",
     "output_type": "stream",
     "text": [
      "INFO:tensorflow:Restoring parameters from ./model/final.ckpy\n",
      "Number: 1\n",
      "Number: 2\n",
      "Number: 3\n",
      "Number: 4\n",
      "Number: 5\n",
      "Number: 6\n",
      "Number: 7\n",
      "Number: 8\n",
      "Number: 9\n",
      "Number: 10\n",
      "Number: 11\n",
      "Number: 12\n",
      "Number: 13\n",
      "Number: 14\n",
      "Number: 15\n",
      "Number: 16\n",
      "Number: 17\n",
      "Number: 18\n",
      "Number: 19\n",
      "Number: 20\n",
      "Number: 21\n",
      "Number: 22\n",
      "Number: 23\n",
      "Number: 24\n",
      "Number: 25\n",
      "Number: 26\n",
      "Number: 27\n",
      "Number: 28\n",
      "Number: 29\n",
      "Number: 30\n",
      "Number: 31\n",
      "Number: 32\n"
     ]
    }
   ],
   "source": [
    "batch_size_input = 32\n",
    "number_of_par_calls = 4\n",
    "with tf.Session(config=tf.ConfigProto(log_device_placement=True)) as sess:\n",
    "    saver.restore(sess, \"./model/final.ckpy\")\n",
    "    \n",
    "    dataset_feed = {batch_size:batch_size_input, num_par_calls:number_of_par_calls}\n",
    "    sess.run(test_init_op, feed_dict=dataset_feed)\n",
    "    results = {\"filename\":[], \"label\":[]}\n",
    "    acc = []\n",
    "    loss = []\n",
    "    i = 1\n",
    "    while True:\n",
    "        try:\n",
    "            filenames, batch_ch1, batch_ch2, batch_ch3, batch_ch4 = sess.run(next_element_test)\n",
    "        except tf.errors.OutOfRangeError:\n",
    "            break\n",
    "        test_feed = {ch1_input:batch_ch1, ch2_input:batch_ch2,\n",
    "                  ch3_input:batch_ch3, ch4_input:batch_ch4, hold_prob:1.0}\n",
    "        result = sess.run(prediction, feed_dict=test_feed)\n",
    "        for file in filenames:\n",
    "            results[\"filename\"].append(file.decode())\n",
    "        for res in result:\n",
    "            results[\"label\"].append(res + 1)\n",
    "        print(\"Number: {}\".format(i))\n",
    "        i += 1\n",
    "        "
   ]
  },
  {
   "cell_type": "code",
   "execution_count": 48,
   "metadata": {},
   "outputs": [
    {
     "data": {
      "text/html": [
       "<div>\n",
       "<style scoped>\n",
       "    .dataframe tbody tr th:only-of-type {\n",
       "        vertical-align: middle;\n",
       "    }\n",
       "\n",
       "    .dataframe tbody tr th {\n",
       "        vertical-align: top;\n",
       "    }\n",
       "\n",
       "    .dataframe thead th {\n",
       "        text-align: right;\n",
       "    }\n",
       "</style>\n",
       "<table border=\"1\" class=\"dataframe\">\n",
       "  <thead>\n",
       "    <tr style=\"text-align: right;\">\n",
       "      <th></th>\n",
       "      <th>filename</th>\n",
       "      <th>label</th>\n",
       "    </tr>\n",
       "  </thead>\n",
       "  <tbody>\n",
       "    <tr>\n",
       "      <th>0</th>\n",
       "      <td>Y3K7JETF</td>\n",
       "      <td>2</td>\n",
       "    </tr>\n",
       "    <tr>\n",
       "      <th>1</th>\n",
       "      <td>W6HOIV84</td>\n",
       "      <td>1</td>\n",
       "    </tr>\n",
       "    <tr>\n",
       "      <th>2</th>\n",
       "      <td>UT7X0FXK</td>\n",
       "      <td>2</td>\n",
       "    </tr>\n",
       "    <tr>\n",
       "      <th>3</th>\n",
       "      <td>396IEJUQ</td>\n",
       "      <td>1</td>\n",
       "    </tr>\n",
       "    <tr>\n",
       "      <th>4</th>\n",
       "      <td>ETWR1EHV</td>\n",
       "      <td>1</td>\n",
       "    </tr>\n",
       "  </tbody>\n",
       "</table>\n",
       "</div>"
      ],
      "text/plain": [
       "   filename  label\n",
       "0  Y3K7JETF      2\n",
       "1  W6HOIV84      1\n",
       "2  UT7X0FXK      2\n",
       "3  396IEJUQ      1\n",
       "4  ETWR1EHV      1"
      ]
     },
     "execution_count": 48,
     "metadata": {},
     "output_type": "execute_result"
    }
   ],
   "source": [
    "final_results = pd.DataFrame(results)\n",
    "final_results.head()"
   ]
  },
  {
   "cell_type": "code",
   "execution_count": 49,
   "metadata": {},
   "outputs": [],
   "source": [
    "final_results.set_index(\"filename\", inplace=True)"
   ]
  },
  {
   "cell_type": "code",
   "execution_count": 61,
   "metadata": {},
   "outputs": [
    {
     "data": {
      "text/plain": [
       "2    535\n",
       "1    467\n",
       "Name: label, dtype: int64"
      ]
     },
     "execution_count": 61,
     "metadata": {},
     "output_type": "execute_result"
    }
   ],
   "source": [
    "final_results[\"label\"].value_counts()"
   ]
  },
  {
   "cell_type": "code",
   "execution_count": 51,
   "metadata": {},
   "outputs": [],
   "source": [
    "final_results.to_csv(\"~/results_subvocal.csv\")"
   ]
  },
  {
   "cell_type": "code",
   "execution_count": null,
   "metadata": {},
   "outputs": [],
   "source": []
  },
  {
   "cell_type": "code",
   "execution_count": null,
   "metadata": {},
   "outputs": [],
   "source": [
    "print(\"Final accuracy: {}\\tFinal Loss: {}\".format(final_test_accuracy, final_test_loss))"
   ]
  },
  {
   "cell_type": "code",
   "execution_count": null,
   "metadata": {},
   "outputs": [],
   "source": [
    "final_dataset = tf.data.Dataset.from_tensor_slices((final_filenames,\n",
    "                                                    final_ch1,\n",
    "                                                    final_ch2,\n",
    "                                                    final_ch3,\n",
    "                                                    final_ch4))\n",
    "final_dataset = final_dataset.map(_image_parse_fn, num_parallel_calls=num_par_calls)\n",
    "final_dataset = final_dataset.batch(batch_size)"
   ]
  },
  {
   "cell_type": "code",
   "execution_count": null,
   "metadata": {},
   "outputs": [],
   "source": [
    "final_iterator = tf.data.Iterator.from_structure(test_dataset.output_types, test_dataset.output_shapes)\n",
    "next_element_final = final_iterator.get_next()\n",
    "final_init_op = final_iterator.make_initializer(test_dataset)"
   ]
  },
  {
   "cell_type": "code",
   "execution_count": null,
   "metadata": {},
   "outputs": [],
   "source": []
  }
 ],
 "metadata": {
  "kernelspec": {
   "display_name": "Python 3",
   "language": "python",
   "name": "python3"
  },
  "language_info": {
   "codemirror_mode": {
    "name": "ipython",
    "version": 3
   },
   "file_extension": ".py",
   "mimetype": "text/x-python",
   "name": "python",
   "nbconvert_exporter": "python",
   "pygments_lexer": "ipython3",
   "version": "3.5.3"
  }
 },
 "nbformat": 4,
 "nbformat_minor": 2
}
